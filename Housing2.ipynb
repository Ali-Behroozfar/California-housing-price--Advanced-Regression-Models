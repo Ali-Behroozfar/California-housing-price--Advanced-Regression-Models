{
 "cells": [
  {
   "cell_type": "markdown",
   "metadata": {},
   "source": [
    "><h2><center> Advanced Regression Techniques / Analysis of house price in California\n",
    "<h3><center>Ali Behroozfar\n",
    "   \n",
    " <br><br>In this project I tried to find the best regression models to explain the housing price in CA. Different regression models were tuned, run and compared with each other. All the data cleaning, visualizations and models evaluations are explained below. The dataset is available online and can be downloaded at this link:<br><br> https://www.kaggle.com/c/house-prices-advanced-regression-techniques/overview\n",
    "\n",
    "\n"
   ]
  },
  {
   "cell_type": "code",
   "execution_count": 66,
   "metadata": {},
   "outputs": [],
   "source": [
    "import collections\n",
    "import pandas as pd\n",
    "import numpy as np\n",
    "import seaborn as sns\n",
    "import matplotlib.pyplot as plt\n",
    "from sklearn.model_selection import train_test_split, StratifiedShuffleSplit\n",
    "from sklearn.preprocessing import MinMaxScaler, StandardScaler, RobustScaler, LabelEncoder, PolynomialFeatures\n",
    "from sklearn.compose import make_column_transformer\n",
    "from sklearn.neighbors import KNeighborsRegressor\n",
    "from sklearn.svm import SVR\n",
    "from sklearn.svm import LinearSVR\n",
    "from sklearn.tree import DecisionTreeRegressor\n",
    "from sklearn.decomposition import PCA\n",
    "from sklearn.pipeline import Pipeline\n",
    "from sklearn.model_selection import GridSearchCV\n",
    "from sklearn.feature_selection import SelectFromModel\n",
    "from sklearn.linear_model import LinearRegression, SGDRegressor, Ridge, Lasso\n",
    "from sklearn.exceptions import DataConversionWarning\n",
    "from sklearn.calibration import CalibratedClassifierCV\n",
    "from sklearn.ensemble import RandomForestClassifier, RandomForestRegressor, AdaBoostRegressor, GradientBoostingRegressor, BaggingRegressor\n",
    "from sklearn.metrics import accuracy_score\n",
    "np.random.seed(0)\n",
    "from scipy.special import boxcox1p"
   ]
  },
  {
   "cell_type": "code",
   "execution_count": 2,
   "metadata": {},
   "outputs": [],
   "source": [
    "df=pd.read_csv('train.csv')"
   ]
  },
  {
   "cell_type": "code",
   "execution_count": 3,
   "metadata": {},
   "outputs": [
    {
     "name": "stdout",
     "output_type": "stream",
     "text": [
      "The shape of this dataset is : (1460, 81)\n"
     ]
    }
   ],
   "source": [
    "print('The shape of this dataset is : {}'.format(df.shape))"
   ]
  },
  {
   "cell_type": "code",
   "execution_count": 4,
   "metadata": {},
   "outputs": [
    {
     "data": {
      "text/plain": [
       "Index(['Id', 'MSSubClass', 'MSZoning', 'LotFrontage', 'LotArea', 'Street',\n",
       "       'Alley', 'LotShape', 'LandContour', 'Utilities', 'LotConfig',\n",
       "       'LandSlope', 'Neighborhood', 'Condition1', 'Condition2', 'BldgType',\n",
       "       'HouseStyle', 'OverallQual', 'OverallCond', 'YearBuilt', 'YearRemodAdd',\n",
       "       'RoofStyle', 'RoofMatl', 'Exterior1st', 'Exterior2nd', 'MasVnrType',\n",
       "       'MasVnrArea', 'ExterQual', 'ExterCond', 'Foundation', 'BsmtQual',\n",
       "       'BsmtCond', 'BsmtExposure', 'BsmtFinType1', 'BsmtFinSF1',\n",
       "       'BsmtFinType2', 'BsmtFinSF2', 'BsmtUnfSF', 'TotalBsmtSF', 'Heating',\n",
       "       'HeatingQC', 'CentralAir', 'Electrical', '1stFlrSF', '2ndFlrSF',\n",
       "       'LowQualFinSF', 'GrLivArea', 'BsmtFullBath', 'BsmtHalfBath', 'FullBath',\n",
       "       'HalfBath', 'BedroomAbvGr', 'KitchenAbvGr', 'KitchenQual',\n",
       "       'TotRmsAbvGrd', 'Functional', 'Fireplaces', 'FireplaceQu', 'GarageType',\n",
       "       'GarageYrBlt', 'GarageFinish', 'GarageCars', 'GarageArea', 'GarageQual',\n",
       "       'GarageCond', 'PavedDrive', 'WoodDeckSF', 'OpenPorchSF',\n",
       "       'EnclosedPorch', '3SsnPorch', 'ScreenPorch', 'PoolArea', 'PoolQC',\n",
       "       'Fence', 'MiscFeature', 'MiscVal', 'MoSold', 'YrSold', 'SaleType',\n",
       "       'SaleCondition', 'SalePrice'],\n",
       "      dtype='object')"
      ]
     },
     "execution_count": 4,
     "metadata": {},
     "output_type": "execute_result"
    }
   ],
   "source": [
    "df.columns"
   ]
  },
  {
   "cell_type": "markdown",
   "metadata": {},
   "source": [
    "**It has 6 percent missing values.**"
   ]
  },
  {
   "cell_type": "code",
   "execution_count": 5,
   "metadata": {},
   "outputs": [
    {
     "data": {
      "text/plain": [
       "0.058895653644512096"
      ]
     },
     "execution_count": 5,
     "metadata": {},
     "output_type": "execute_result"
    }
   ],
   "source": [
    "df.isnull().values.sum()/df.shape[0]/df.shape[1]"
   ]
  },
  {
   "cell_type": "markdown",
   "metadata": {},
   "source": [
    "### Choosing variables"
   ]
  },
  {
   "cell_type": "markdown",
   "metadata": {},
   "source": [
    "> These variables have missing values:"
   ]
  },
  {
   "cell_type": "code",
   "execution_count": 6,
   "metadata": {},
   "outputs": [
    {
     "data": {
      "text/html": [
       "<div>\n",
       "<style scoped>\n",
       "    .dataframe tbody tr th:only-of-type {\n",
       "        vertical-align: middle;\n",
       "    }\n",
       "\n",
       "    .dataframe tbody tr th {\n",
       "        vertical-align: top;\n",
       "    }\n",
       "\n",
       "    .dataframe thead th {\n",
       "        text-align: right;\n",
       "    }\n",
       "</style>\n",
       "<table border=\"1\" class=\"dataframe\">\n",
       "  <thead>\n",
       "    <tr style=\"text-align: right;\">\n",
       "      <th></th>\n",
       "      <th>0</th>\n",
       "    </tr>\n",
       "  </thead>\n",
       "  <tbody>\n",
       "    <tr>\n",
       "      <th>LotFrontage</th>\n",
       "      <td>259</td>\n",
       "    </tr>\n",
       "    <tr>\n",
       "      <th>Alley</th>\n",
       "      <td>1369</td>\n",
       "    </tr>\n",
       "    <tr>\n",
       "      <th>MasVnrType</th>\n",
       "      <td>8</td>\n",
       "    </tr>\n",
       "    <tr>\n",
       "      <th>MasVnrArea</th>\n",
       "      <td>8</td>\n",
       "    </tr>\n",
       "    <tr>\n",
       "      <th>BsmtQual</th>\n",
       "      <td>37</td>\n",
       "    </tr>\n",
       "    <tr>\n",
       "      <th>BsmtCond</th>\n",
       "      <td>37</td>\n",
       "    </tr>\n",
       "    <tr>\n",
       "      <th>BsmtExposure</th>\n",
       "      <td>38</td>\n",
       "    </tr>\n",
       "    <tr>\n",
       "      <th>BsmtFinType1</th>\n",
       "      <td>37</td>\n",
       "    </tr>\n",
       "    <tr>\n",
       "      <th>BsmtFinType2</th>\n",
       "      <td>38</td>\n",
       "    </tr>\n",
       "    <tr>\n",
       "      <th>Electrical</th>\n",
       "      <td>1</td>\n",
       "    </tr>\n",
       "    <tr>\n",
       "      <th>FireplaceQu</th>\n",
       "      <td>690</td>\n",
       "    </tr>\n",
       "    <tr>\n",
       "      <th>GarageType</th>\n",
       "      <td>81</td>\n",
       "    </tr>\n",
       "    <tr>\n",
       "      <th>GarageYrBlt</th>\n",
       "      <td>81</td>\n",
       "    </tr>\n",
       "    <tr>\n",
       "      <th>GarageFinish</th>\n",
       "      <td>81</td>\n",
       "    </tr>\n",
       "    <tr>\n",
       "      <th>GarageQual</th>\n",
       "      <td>81</td>\n",
       "    </tr>\n",
       "    <tr>\n",
       "      <th>GarageCond</th>\n",
       "      <td>81</td>\n",
       "    </tr>\n",
       "    <tr>\n",
       "      <th>PoolQC</th>\n",
       "      <td>1453</td>\n",
       "    </tr>\n",
       "    <tr>\n",
       "      <th>Fence</th>\n",
       "      <td>1179</td>\n",
       "    </tr>\n",
       "    <tr>\n",
       "      <th>MiscFeature</th>\n",
       "      <td>1406</td>\n",
       "    </tr>\n",
       "  </tbody>\n",
       "</table>\n",
       "</div>"
      ],
      "text/plain": [
       "                 0\n",
       "LotFrontage    259\n",
       "Alley         1369\n",
       "MasVnrType       8\n",
       "MasVnrArea       8\n",
       "BsmtQual        37\n",
       "BsmtCond        37\n",
       "BsmtExposure    38\n",
       "BsmtFinType1    37\n",
       "BsmtFinType2    38\n",
       "Electrical       1\n",
       "FireplaceQu    690\n",
       "GarageType      81\n",
       "GarageYrBlt     81\n",
       "GarageFinish    81\n",
       "GarageQual      81\n",
       "GarageCond      81\n",
       "PoolQC        1453\n",
       "Fence         1179\n",
       "MiscFeature   1406"
      ]
     },
     "execution_count": 6,
     "metadata": {},
     "output_type": "execute_result"
    }
   ],
   "source": [
    "null_col = df.isnull().sum()\n",
    "pd.DataFrame(null_col[null_col>0])"
   ]
  },
  {
   "cell_type": "markdown",
   "metadata": {},
   "source": [
    "### Droping variables containing high number of missing values"
   ]
  },
  {
   "cell_type": "raw",
   "metadata": {},
   "source": [
    "df = housing.drop(['Alley','PoolQC','Fence','MiscFeature'], axis=1)"
   ]
  },
  {
   "cell_type": "code",
   "execution_count": 8,
   "metadata": {},
   "outputs": [],
   "source": [
    "df['SalePrice_Log'] = np.log(df['SalePrice'])"
   ]
  },
  {
   "cell_type": "code",
   "execution_count": 9,
   "metadata": {},
   "outputs": [],
   "source": [
    "numerical_feats = df.dtypes[df.dtypes != \"object\"].index\n",
    "categorical_feats = df.dtypes[df.dtypes == \"object\"].index"
   ]
  },
  {
   "cell_type": "code",
   "execution_count": 10,
   "metadata": {},
   "outputs": [
    {
     "data": {
      "text/plain": [
       "Index(['MSZoning', 'Street', 'Alley', 'LotShape', 'LandContour', 'Utilities',\n",
       "       'LotConfig', 'LandSlope', 'Neighborhood', 'Condition1', 'Condition2',\n",
       "       'BldgType', 'HouseStyle', 'RoofStyle', 'RoofMatl', 'Exterior1st',\n",
       "       'Exterior2nd', 'MasVnrType', 'ExterQual', 'ExterCond', 'Foundation',\n",
       "       'BsmtQual', 'BsmtCond', 'BsmtExposure', 'BsmtFinType1', 'BsmtFinType2',\n",
       "       'Heating', 'HeatingQC', 'CentralAir', 'Electrical', 'KitchenQual',\n",
       "       'Functional', 'FireplaceQu', 'GarageType', 'GarageFinish', 'GarageQual',\n",
       "       'GarageCond', 'PavedDrive', 'PoolQC', 'Fence', 'MiscFeature',\n",
       "       'SaleType', 'SaleCondition'],\n",
       "      dtype='object')"
      ]
     },
     "execution_count": 10,
     "metadata": {},
     "output_type": "execute_result"
    }
   ],
   "source": [
    "categorical_feats"
   ]
  },
  {
   "cell_type": "code",
   "execution_count": 11,
   "metadata": {},
   "outputs": [],
   "source": [
    "# columns where NaN values have meaning e.g. no pool etc.\n",
    "cols_fillna = ['PoolQC','MiscFeature','Alley','Fence','MasVnrType','FireplaceQu',\n",
    "               'GarageQual','GarageCond','GarageFinish','GarageType', 'Electrical',\n",
    "               'KitchenQual', 'SaleType', 'Functional', 'Exterior2nd', 'Exterior1st',\n",
    "               'BsmtExposure','BsmtCond','BsmtQual','BsmtFinType1','BsmtFinType2',\n",
    "               'MSZoning', 'Utilities']\n",
    "\n",
    "# replace 'NaN' with 'None' in these columns\n",
    "for col in cols_fillna:\n",
    "    df[col].fillna('None',inplace=True)"
   ]
  },
  {
   "cell_type": "code",
   "execution_count": 12,
   "metadata": {},
   "outputs": [
    {
     "data": {
      "text/plain": [
       "Id                  730.500000\n",
       "MSSubClass           56.897260\n",
       "LotFrontage          70.049958\n",
       "LotArea           10516.828082\n",
       "OverallQual           6.099315\n",
       "OverallCond           5.575342\n",
       "YearBuilt          1971.267808\n",
       "YearRemodAdd       1984.865753\n",
       "MasVnrArea          103.685262\n",
       "BsmtFinSF1          443.639726\n",
       "BsmtFinSF2           46.549315\n",
       "BsmtUnfSF           567.240411\n",
       "TotalBsmtSF        1057.429452\n",
       "1stFlrSF           1162.626712\n",
       "2ndFlrSF            346.992466\n",
       "LowQualFinSF          5.844521\n",
       "GrLivArea          1515.463699\n",
       "BsmtFullBath          0.425342\n",
       "BsmtHalfBath          0.057534\n",
       "FullBath              1.565068\n",
       "HalfBath              0.382877\n",
       "BedroomAbvGr          2.866438\n",
       "KitchenAbvGr          1.046575\n",
       "TotRmsAbvGrd          6.517808\n",
       "Fireplaces            0.613014\n",
       "GarageYrBlt        1978.506164\n",
       "GarageCars            1.767123\n",
       "GarageArea          472.980137\n",
       "WoodDeckSF           94.244521\n",
       "OpenPorchSF          46.660274\n",
       "EnclosedPorch        21.954110\n",
       "3SsnPorch             3.409589\n",
       "ScreenPorch          15.060959\n",
       "PoolArea              2.758904\n",
       "MiscVal              43.489041\n",
       "MoSold                6.321918\n",
       "YrSold             2007.815753\n",
       "SalePrice        180921.195890\n",
       "SalePrice_Log        12.024051\n",
       "dtype: float64"
      ]
     },
     "execution_count": 12,
     "metadata": {},
     "output_type": "execute_result"
    }
   ],
   "source": [
    "df.mean()"
   ]
  },
  {
   "cell_type": "code",
   "execution_count": 13,
   "metadata": {},
   "outputs": [],
   "source": [
    "df.fillna(df.mean(), inplace=True)"
   ]
  },
  {
   "cell_type": "code",
   "execution_count": 14,
   "metadata": {},
   "outputs": [
    {
     "data": {
      "text/plain": [
       "0"
      ]
     },
     "execution_count": 14,
     "metadata": {},
     "output_type": "execute_result"
    }
   ],
   "source": [
    "df.isnull().sum().sum()"
   ]
  },
  {
   "cell_type": "code",
   "execution_count": 15,
   "metadata": {},
   "outputs": [],
   "source": [
    "df['GrLivArea_Log'] = np.log(df['GrLivArea'])\n",
    "df.drop('GrLivArea', inplace= True, axis = 1)\n",
    "df['LotArea_Log'] = np.log(df['LotArea'])\n",
    "df.drop('LotArea', inplace= True, axis = 1)\n",
    "    \n",
    "numerical_feats = df.dtypes[df.dtypes != \"object\"].index"
   ]
  },
  {
   "cell_type": "code",
   "execution_count": 17,
   "metadata": {},
   "outputs": [],
   "source": [
    "df = df.drop(\n",
    "    df[(df['OverallQual']==10) & (df['SalePrice_Log']<12.3)].index)"
   ]
  },
  {
   "cell_type": "code",
   "execution_count": 19,
   "metadata": {},
   "outputs": [],
   "source": [
    "df = df.drop(\n",
    "    df[(df['GrLivArea_Log']>8.3) & (df['SalePrice_Log']<12.5)].index)"
   ]
  },
  {
   "cell_type": "code",
   "execution_count": 20,
   "metadata": {},
   "outputs": [
    {
     "data": {
      "text/plain": [
       "(1458, 82)"
      ]
     },
     "execution_count": 20,
     "metadata": {},
     "output_type": "execute_result"
    }
   ],
   "source": [
    "df.shape"
   ]
  },
  {
   "cell_type": "code",
   "execution_count": 21,
   "metadata": {},
   "outputs": [],
   "source": [
    "column_to_drop = ['Id', 'BsmtFinSF1', 'LotFrontage', 'WoodDeckSF', 'OpenPorchSF', '2ndFlrSF', 'HalfBath', 'BsmtFullBath', \n",
    "                  'BsmtUnfSF', 'BedroomAbvGr', 'EnclosedPorch', 'KitchenAbvGr', 'ScreenPorch', 'PoolArea', 'MSSubClass',\n",
    "                  'MoSold','3SsnPorch', 'LowQualFinSF', 'YrSold', 'OverallCond', 'MiscVal', 'Id', 'BsmtHalfBath',\n",
    "                  'BsmtFinSF2', 'Street', 'Alley', 'LotShape', 'LandContour', 'Utilities', 'LotConfig', 'LandSlope', \n",
    "                  'Condition1',  'BldgType', 'HouseStyle', 'RoofStyle', 'RoofMatl', 'Exterior1st', 'Exterior2nd',\n",
    "                  'ExterCond', 'Foundation', 'BsmtCond', 'BsmtExposure', 'BsmtFinType1', 'BsmtFinType2', 'Heating', \n",
    "                  'HeatingQC', 'Functional', 'FireplaceQu', 'GarageType', 'GarageFinish', 'GarageQual', 'GarageCond',\n",
    "                  'PavedDrive', 'PoolQC', 'Fence', 'MiscFeature', 'SaleCondition', 'Condition2', \n",
    "                  'MasVnrType', 'CentralAir', 'Electrical', 'SaleType']\n",
    "df.drop(column_to_drop, axis=1, inplace=True)"
   ]
  },
  {
   "cell_type": "code",
   "execution_count": 22,
   "metadata": {},
   "outputs": [],
   "source": [
    "msz_catg2 = ['RM', 'RH']\n",
    "msz_catg3 = ['RL', 'FV'] \n",
    "\n",
    "nbhd_catg2 = ['Blmngtn', 'ClearCr', 'CollgCr', 'Crawfor', 'Gilbert', 'NWAmes', 'Somerst', 'Timber', 'Veenker']\n",
    "nbhd_catg3 = ['NoRidge', 'NridgHt', 'StoneBr']     "
   ]
  },
  {
   "cell_type": "code",
   "execution_count": 23,
   "metadata": {},
   "outputs": [],
   "source": [
    "df['MSZ_num'] = 1  \n",
    "df.loc[(df['MSZoning'].isin(msz_catg2) ), 'MSZ_num'] = 2    \n",
    "df.loc[(df['MSZoning'].isin(msz_catg3) ), 'MSZ_num'] = 3        \n",
    "\n",
    "df['NbHd_num'] = 1       \n",
    "df.loc[(df['Neighborhood'].isin(nbhd_catg2) ), 'NbHd_num'] = 2    \n",
    "df.loc[(df['Neighborhood'].isin(nbhd_catg3) ), 'NbHd_num'] = 3    \n",
    "\n",
    "df['ExtQ_num'] = 1       \n",
    "df.loc[(df['ExterQual'] == 'TA' ), 'ExtQ_num'] = 2     \n",
    "df.loc[(df['ExterQual'] == 'Gd' ), 'ExtQ_num'] = 3     \n",
    "df.loc[(df['ExterQual'] == 'Ex' ), 'ExtQ_num'] = 4     \n",
    "\n",
    "df['BsQ_num'] = 1          \n",
    "df.loc[(df['BsmtQual'] == 'Gd' ), 'BsQ_num'] = 2     \n",
    "df.loc[(df['BsmtQual'] == 'Ex' ), 'BsQ_num'] = 3     \n",
    "\n",
    "df['KiQ_num'] = 1       \n",
    "df.loc[(df['KitchenQual'] == 'TA' ), 'KiQ_num'] = 2     \n",
    "df.loc[(df['KitchenQual'] == 'Gd' ), 'KiQ_num'] = 3     \n",
    "df.loc[(df['KitchenQual'] == 'Ex' ), 'KiQ_num'] = 4      "
   ]
  },
  {
   "cell_type": "code",
   "execution_count": 24,
   "metadata": {},
   "outputs": [
    {
     "name": "stdout",
     "output_type": "stream",
     "text": [
      "<class 'pandas.core.frame.DataFrame'>\n",
      "Int64Index: 1458 entries, 0 to 1459\n",
      "Data columns (total 26 columns):\n",
      "MSZoning         1458 non-null object\n",
      "Neighborhood     1458 non-null object\n",
      "OverallQual      1458 non-null int64\n",
      "YearBuilt        1458 non-null int64\n",
      "YearRemodAdd     1458 non-null int64\n",
      "MasVnrArea       1458 non-null float64\n",
      "ExterQual        1458 non-null object\n",
      "BsmtQual         1458 non-null object\n",
      "TotalBsmtSF      1458 non-null int64\n",
      "1stFlrSF         1458 non-null int64\n",
      "FullBath         1458 non-null int64\n",
      "KitchenQual      1458 non-null object\n",
      "TotRmsAbvGrd     1458 non-null int64\n",
      "Fireplaces       1458 non-null int64\n",
      "GarageYrBlt      1458 non-null float64\n",
      "GarageCars       1458 non-null int64\n",
      "GarageArea       1458 non-null int64\n",
      "SalePrice        1458 non-null int64\n",
      "SalePrice_Log    1458 non-null float64\n",
      "GrLivArea_Log    1458 non-null float64\n",
      "LotArea_Log      1458 non-null float64\n",
      "MSZ_num          1458 non-null int64\n",
      "NbHd_num         1458 non-null int64\n",
      "ExtQ_num         1458 non-null int64\n",
      "BsQ_num          1458 non-null int64\n",
      "KiQ_num          1458 non-null int64\n",
      "dtypes: float64(5), int64(16), object(5)\n",
      "memory usage: 307.5+ KB\n"
     ]
    }
   ],
   "source": [
    "df.info()"
   ]
  },
  {
   "cell_type": "code",
   "execution_count": 25,
   "metadata": {},
   "outputs": [],
   "source": [
    "col_to_drop = ['SalePrice', 'GarageArea', 'GarageYrBlt', 'TotRmsAbvGrd', '1stFlrSF', 'MSZoning',\n",
    "              'Neighborhood' , 'ExterQual', 'BsmtQual','KitchenQual']\n",
    "df.drop(col_to_drop, axis=1, inplace=True)"
   ]
  },
  {
   "cell_type": "code",
   "execution_count": 26,
   "metadata": {},
   "outputs": [
    {
     "data": {
      "text/html": [
       "<div>\n",
       "<style scoped>\n",
       "    .dataframe tbody tr th:only-of-type {\n",
       "        vertical-align: middle;\n",
       "    }\n",
       "\n",
       "    .dataframe tbody tr th {\n",
       "        vertical-align: top;\n",
       "    }\n",
       "\n",
       "    .dataframe thead th {\n",
       "        text-align: right;\n",
       "    }\n",
       "</style>\n",
       "<table border=\"1\" class=\"dataframe\">\n",
       "  <thead>\n",
       "    <tr style=\"text-align: right;\">\n",
       "      <th></th>\n",
       "      <th>OverallQual</th>\n",
       "      <th>YearBuilt</th>\n",
       "      <th>YearRemodAdd</th>\n",
       "      <th>MasVnrArea</th>\n",
       "      <th>TotalBsmtSF</th>\n",
       "      <th>FullBath</th>\n",
       "      <th>Fireplaces</th>\n",
       "      <th>GarageCars</th>\n",
       "      <th>SalePrice_Log</th>\n",
       "      <th>GrLivArea_Log</th>\n",
       "      <th>LotArea_Log</th>\n",
       "      <th>MSZ_num</th>\n",
       "      <th>NbHd_num</th>\n",
       "      <th>ExtQ_num</th>\n",
       "      <th>BsQ_num</th>\n",
       "      <th>KiQ_num</th>\n",
       "    </tr>\n",
       "  </thead>\n",
       "  <tbody>\n",
       "    <tr>\n",
       "      <th>0</th>\n",
       "      <td>7</td>\n",
       "      <td>2003</td>\n",
       "      <td>2003</td>\n",
       "      <td>196.0</td>\n",
       "      <td>856</td>\n",
       "      <td>2</td>\n",
       "      <td>0</td>\n",
       "      <td>2</td>\n",
       "      <td>12.247694</td>\n",
       "      <td>7.444249</td>\n",
       "      <td>9.041922</td>\n",
       "      <td>3</td>\n",
       "      <td>2</td>\n",
       "      <td>3</td>\n",
       "      <td>2</td>\n",
       "      <td>3</td>\n",
       "    </tr>\n",
       "    <tr>\n",
       "      <th>1</th>\n",
       "      <td>6</td>\n",
       "      <td>1976</td>\n",
       "      <td>1976</td>\n",
       "      <td>0.0</td>\n",
       "      <td>1262</td>\n",
       "      <td>2</td>\n",
       "      <td>1</td>\n",
       "      <td>2</td>\n",
       "      <td>12.109011</td>\n",
       "      <td>7.140453</td>\n",
       "      <td>9.169518</td>\n",
       "      <td>3</td>\n",
       "      <td>2</td>\n",
       "      <td>2</td>\n",
       "      <td>2</td>\n",
       "      <td>2</td>\n",
       "    </tr>\n",
       "    <tr>\n",
       "      <th>2</th>\n",
       "      <td>7</td>\n",
       "      <td>2001</td>\n",
       "      <td>2002</td>\n",
       "      <td>162.0</td>\n",
       "      <td>920</td>\n",
       "      <td>2</td>\n",
       "      <td>1</td>\n",
       "      <td>2</td>\n",
       "      <td>12.317167</td>\n",
       "      <td>7.487734</td>\n",
       "      <td>9.328123</td>\n",
       "      <td>3</td>\n",
       "      <td>2</td>\n",
       "      <td>3</td>\n",
       "      <td>2</td>\n",
       "      <td>3</td>\n",
       "    </tr>\n",
       "    <tr>\n",
       "      <th>3</th>\n",
       "      <td>7</td>\n",
       "      <td>1915</td>\n",
       "      <td>1970</td>\n",
       "      <td>0.0</td>\n",
       "      <td>756</td>\n",
       "      <td>1</td>\n",
       "      <td>1</td>\n",
       "      <td>3</td>\n",
       "      <td>11.849398</td>\n",
       "      <td>7.448334</td>\n",
       "      <td>9.164296</td>\n",
       "      <td>3</td>\n",
       "      <td>2</td>\n",
       "      <td>2</td>\n",
       "      <td>1</td>\n",
       "      <td>3</td>\n",
       "    </tr>\n",
       "    <tr>\n",
       "      <th>4</th>\n",
       "      <td>8</td>\n",
       "      <td>2000</td>\n",
       "      <td>2000</td>\n",
       "      <td>350.0</td>\n",
       "      <td>1145</td>\n",
       "      <td>2</td>\n",
       "      <td>1</td>\n",
       "      <td>3</td>\n",
       "      <td>12.429216</td>\n",
       "      <td>7.695303</td>\n",
       "      <td>9.565214</td>\n",
       "      <td>3</td>\n",
       "      <td>3</td>\n",
       "      <td>3</td>\n",
       "      <td>2</td>\n",
       "      <td>3</td>\n",
       "    </tr>\n",
       "  </tbody>\n",
       "</table>\n",
       "</div>"
      ],
      "text/plain": [
       "   OverallQual  YearBuilt  YearRemodAdd  MasVnrArea  TotalBsmtSF  FullBath  \\\n",
       "0            7       2003          2003       196.0          856         2   \n",
       "1            6       1976          1976         0.0         1262         2   \n",
       "2            7       2001          2002       162.0          920         2   \n",
       "3            7       1915          1970         0.0          756         1   \n",
       "4            8       2000          2000       350.0         1145         2   \n",
       "\n",
       "   Fireplaces  GarageCars  SalePrice_Log  GrLivArea_Log  LotArea_Log  MSZ_num  \\\n",
       "0           0           2      12.247694       7.444249     9.041922        3   \n",
       "1           1           2      12.109011       7.140453     9.169518        3   \n",
       "2           1           2      12.317167       7.487734     9.328123        3   \n",
       "3           1           3      11.849398       7.448334     9.164296        3   \n",
       "4           1           3      12.429216       7.695303     9.565214        3   \n",
       "\n",
       "   NbHd_num  ExtQ_num  BsQ_num  KiQ_num  \n",
       "0         2         3        2        3  \n",
       "1         2         2        2        2  \n",
       "2         2         3        2        3  \n",
       "3         2         2        1        3  \n",
       "4         3         3        2        3  "
      ]
     },
     "execution_count": 26,
     "metadata": {},
     "output_type": "execute_result"
    }
   ],
   "source": [
    "df.head()"
   ]
  },
  {
   "cell_type": "code",
   "execution_count": 27,
   "metadata": {},
   "outputs": [],
   "source": [
    "df1 = df.copy()\n",
    "sc = MinMaxScaler()\n",
    "val = sc.fit_transform(df.values)\n",
    "df1[df.columns] = val"
   ]
  },
  {
   "cell_type": "code",
   "execution_count": 31,
   "metadata": {},
   "outputs": [
    {
     "data": {
      "text/html": [
       "<div>\n",
       "<style scoped>\n",
       "    .dataframe tbody tr th:only-of-type {\n",
       "        vertical-align: middle;\n",
       "    }\n",
       "\n",
       "    .dataframe tbody tr th {\n",
       "        vertical-align: top;\n",
       "    }\n",
       "\n",
       "    .dataframe thead th {\n",
       "        text-align: right;\n",
       "    }\n",
       "</style>\n",
       "<table border=\"1\" class=\"dataframe\">\n",
       "  <thead>\n",
       "    <tr style=\"text-align: right;\">\n",
       "      <th></th>\n",
       "      <th>OverallQual</th>\n",
       "      <th>YearBuilt</th>\n",
       "      <th>YearRemodAdd</th>\n",
       "      <th>MasVnrArea</th>\n",
       "      <th>TotalBsmtSF</th>\n",
       "      <th>FullBath</th>\n",
       "      <th>Fireplaces</th>\n",
       "      <th>GarageCars</th>\n",
       "      <th>SalePrice_Log</th>\n",
       "      <th>GrLivArea_Log</th>\n",
       "      <th>LotArea_Log</th>\n",
       "      <th>MSZ_num</th>\n",
       "      <th>NbHd_num</th>\n",
       "      <th>ExtQ_num</th>\n",
       "      <th>BsQ_num</th>\n",
       "      <th>KiQ_num</th>\n",
       "    </tr>\n",
       "  </thead>\n",
       "  <tbody>\n",
       "    <tr>\n",
       "      <th>0</th>\n",
       "      <td>0.666667</td>\n",
       "      <td>0.949275</td>\n",
       "      <td>0.883333</td>\n",
       "      <td>0.12250</td>\n",
       "      <td>0.266999</td>\n",
       "      <td>0.666667</td>\n",
       "      <td>0.000000</td>\n",
       "      <td>0.50</td>\n",
       "      <td>0.581431</td>\n",
       "      <td>0.629245</td>\n",
       "      <td>0.366344</td>\n",
       "      <td>1.0</td>\n",
       "      <td>0.5</td>\n",
       "      <td>0.666667</td>\n",
       "      <td>0.5</td>\n",
       "      <td>0.666667</td>\n",
       "    </tr>\n",
       "    <tr>\n",
       "      <th>1</th>\n",
       "      <td>0.555556</td>\n",
       "      <td>0.753623</td>\n",
       "      <td>0.433333</td>\n",
       "      <td>0.00000</td>\n",
       "      <td>0.393637</td>\n",
       "      <td>0.666667</td>\n",
       "      <td>0.333333</td>\n",
       "      <td>0.50</td>\n",
       "      <td>0.536319</td>\n",
       "      <td>0.512191</td>\n",
       "      <td>0.391317</td>\n",
       "      <td>1.0</td>\n",
       "      <td>0.5</td>\n",
       "      <td>0.333333</td>\n",
       "      <td>0.5</td>\n",
       "      <td>0.333333</td>\n",
       "    </tr>\n",
       "    <tr>\n",
       "      <th>2</th>\n",
       "      <td>0.666667</td>\n",
       "      <td>0.934783</td>\n",
       "      <td>0.866667</td>\n",
       "      <td>0.10125</td>\n",
       "      <td>0.286962</td>\n",
       "      <td>0.666667</td>\n",
       "      <td>0.333333</td>\n",
       "      <td>0.50</td>\n",
       "      <td>0.604029</td>\n",
       "      <td>0.646000</td>\n",
       "      <td>0.422359</td>\n",
       "      <td>1.0</td>\n",
       "      <td>0.5</td>\n",
       "      <td>0.666667</td>\n",
       "      <td>0.5</td>\n",
       "      <td>0.666667</td>\n",
       "    </tr>\n",
       "    <tr>\n",
       "      <th>3</th>\n",
       "      <td>0.666667</td>\n",
       "      <td>0.311594</td>\n",
       "      <td>0.333333</td>\n",
       "      <td>0.00000</td>\n",
       "      <td>0.235808</td>\n",
       "      <td>0.333333</td>\n",
       "      <td>0.333333</td>\n",
       "      <td>0.75</td>\n",
       "      <td>0.451871</td>\n",
       "      <td>0.630819</td>\n",
       "      <td>0.390295</td>\n",
       "      <td>1.0</td>\n",
       "      <td>0.5</td>\n",
       "      <td>0.333333</td>\n",
       "      <td>0.0</td>\n",
       "      <td>0.666667</td>\n",
       "    </tr>\n",
       "    <tr>\n",
       "      <th>4</th>\n",
       "      <td>0.777778</td>\n",
       "      <td>0.927536</td>\n",
       "      <td>0.833333</td>\n",
       "      <td>0.21875</td>\n",
       "      <td>0.357143</td>\n",
       "      <td>0.666667</td>\n",
       "      <td>0.333333</td>\n",
       "      <td>0.75</td>\n",
       "      <td>0.640477</td>\n",
       "      <td>0.725978</td>\n",
       "      <td>0.468761</td>\n",
       "      <td>1.0</td>\n",
       "      <td>1.0</td>\n",
       "      <td>0.666667</td>\n",
       "      <td>0.5</td>\n",
       "      <td>0.666667</td>\n",
       "    </tr>\n",
       "  </tbody>\n",
       "</table>\n",
       "</div>"
      ],
      "text/plain": [
       "   OverallQual  YearBuilt  YearRemodAdd  MasVnrArea  TotalBsmtSF  FullBath  \\\n",
       "0     0.666667   0.949275      0.883333     0.12250     0.266999  0.666667   \n",
       "1     0.555556   0.753623      0.433333     0.00000     0.393637  0.666667   \n",
       "2     0.666667   0.934783      0.866667     0.10125     0.286962  0.666667   \n",
       "3     0.666667   0.311594      0.333333     0.00000     0.235808  0.333333   \n",
       "4     0.777778   0.927536      0.833333     0.21875     0.357143  0.666667   \n",
       "\n",
       "   Fireplaces  GarageCars  SalePrice_Log  GrLivArea_Log  LotArea_Log  MSZ_num  \\\n",
       "0    0.000000        0.50       0.581431       0.629245     0.366344      1.0   \n",
       "1    0.333333        0.50       0.536319       0.512191     0.391317      1.0   \n",
       "2    0.333333        0.50       0.604029       0.646000     0.422359      1.0   \n",
       "3    0.333333        0.75       0.451871       0.630819     0.390295      1.0   \n",
       "4    0.333333        0.75       0.640477       0.725978     0.468761      1.0   \n",
       "\n",
       "   NbHd_num  ExtQ_num  BsQ_num   KiQ_num  \n",
       "0       0.5  0.666667      0.5  0.666667  \n",
       "1       0.5  0.333333      0.5  0.333333  \n",
       "2       0.5  0.666667      0.5  0.666667  \n",
       "3       0.5  0.333333      0.0  0.666667  \n",
       "4       1.0  0.666667      0.5  0.666667  "
      ]
     },
     "execution_count": 31,
     "metadata": {},
     "output_type": "execute_result"
    }
   ],
   "source": [
    "df1.head()"
   ]
  },
  {
   "cell_type": "code",
   "execution_count": 32,
   "metadata": {},
   "outputs": [],
   "source": [
    "y = df1['SalePrice_Log']\n",
    "X = df1.drop(columns=['SalePrice_Log'], axis= 1)"
   ]
  },
  {
   "cell_type": "code",
   "execution_count": 33,
   "metadata": {},
   "outputs": [],
   "source": [
    "X_train, X_test, y_train, y_test = train_test_split(X, y, random_state = 42, test_size = 0.25)"
   ]
  },
  {
   "cell_type": "markdown",
   "metadata": {},
   "source": [
    "### KNN regressor"
   ]
  },
  {
   "cell_type": "code",
   "execution_count": 34,
   "metadata": {},
   "outputs": [
    {
     "data": {
      "text/plain": [
       "Text(0, 0.5, 'MSE')"
      ]
     },
     "execution_count": 34,
     "metadata": {},
     "output_type": "execute_result"
    },
    {
     "data": {
      "image/png": "[encoded data removed]",
      "text/plain": [
       "<Figure size 432x288 with 1 Axes>"
      ]
     },
     "metadata": {
      "needs_background": "light"
     },
     "output_type": "display_data"
    }
   ],
   "source": [
    "%matplotlib inline\n",
    "train_score_array = []\n",
    "test_score_array = []\n",
    "\n",
    "for k in range(1,15):\n",
    "    knn_reg = KNeighborsRegressor(k)\n",
    "    knn_reg.fit(X_train, y_train)\n",
    "    train_score_array.append(knn_reg.score(X_train, y_train))\n",
    "    test_score_array.append(knn_reg.score(X_test, y_test))\n",
    "\n",
    "x_axis = range(1,15)\n",
    "plt.plot(x_axis, train_score_array, c = 'g', label = 'Train Score')\n",
    "plt.plot(x_axis, test_score_array, c = 'b', label = 'Test Score')\n",
    "plt.legend()\n",
    "plt.xlabel('k')\n",
    "plt.ylabel('MSE')"
   ]
  },
  {
   "cell_type": "code",
   "execution_count": 35,
   "metadata": {},
   "outputs": [
    {
     "name": "stdout",
     "output_type": "stream",
     "text": [
      "0.8483053873804012\n",
      "0.8232262831609938\n"
     ]
    }
   ],
   "source": [
    "    knn_reg = KNeighborsRegressor(10)\n",
    "    knn_reg.fit(X_train, y_train)\n",
    "    train_score_array.append(knn_reg.score(X_train, y_train))\n",
    "    test_score_array.append(knn_reg.score(X_test, y_test))\n",
    "    print(knn_reg.score(X_train, y_train))\n",
    "    print(knn_reg.score(X_test, y_test))"
   ]
  },
  {
   "cell_type": "markdown",
   "metadata": {},
   "source": [
    "### Linear regression"
   ]
  },
  {
   "cell_type": "code",
   "execution_count": 36,
   "metadata": {},
   "outputs": [
    {
     "name": "stdout",
     "output_type": "stream",
     "text": [
      "0.8874845798922909\n",
      "0.8841954827434313\n"
     ]
    }
   ],
   "source": [
    "lreg = LinearRegression()\n",
    "lreg.fit(X_train, y_train)\n",
    "print(lreg.score(X_train, y_train))\n",
    "print(lreg.score(X_test, y_test))"
   ]
  },
  {
   "cell_type": "markdown",
   "metadata": {},
   "source": [
    "### SGD regression"
   ]
  },
  {
   "cell_type": "code",
   "execution_count": 37,
   "metadata": {},
   "outputs": [
    {
     "name": "stderr",
     "output_type": "stream",
     "text": [
      "C:\\Users\\Alex\\Anaconda3.7\\lib\\site-packages\\sklearn\\linear_model\\stochastic_gradient.py:183: FutureWarning: max_iter and tol parameters have been added in SGDRegressor in 0.19. If max_iter is set but tol is left unset, the default value for tol in 0.19 and 0.20 will be None (which is equivalent to -infinity, so it has no effect) but will change in 0.21 to 1e-3. Specify tol to silence this warning.\n",
      "  FutureWarning)\n"
     ]
    },
    {
     "name": "stdout",
     "output_type": "stream",
     "text": [
      "0.8872223565703993\n",
      "0.8833405097061966\n"
     ]
    }
   ],
   "source": [
    "sgd_reg = SGDRegressor(max_iter = 10000, penalty = 'l1')\n",
    "sgd_reg.fit(X_train, y_train)\n",
    "print(sgd_reg.score(X_train, y_train))\n",
    "print(sgd_reg.score(X_test, y_test))"
   ]
  },
  {
   "cell_type": "code",
   "execution_count": 47,
   "metadata": {},
   "outputs": [
    {
     "data": {
      "text/plain": [
       "array([-0.02047816])"
      ]
     },
     "execution_count": 47,
     "metadata": {},
     "output_type": "execute_result"
    }
   ],
   "source": [
    "sgd_reg.intercept_"
   ]
  },
  {
   "cell_type": "markdown",
   "metadata": {},
   "source": [
    "### Polynomial"
   ]
  },
  {
   "cell_type": "code",
   "execution_count": 51,
   "metadata": {},
   "outputs": [
    {
     "name": "stdout",
     "output_type": "stream",
     "text": [
      "[0.8874845798922909, 0.9145508036568522]\n",
      "[0.8841954827434308, 0.877355392061856]\n"
     ]
    }
   ],
   "source": [
    "train_score_list = []\n",
    "test_score_list = []\n",
    "\n",
    "for n in [1 , 2]:\n",
    "    #polynomialFeatures is an unsupervised learning mode\n",
    "    poly = PolynomialFeatures(n)\n",
    "    X_train_poly = poly.fit_transform(X_train)\n",
    "    X_test_poly = poly.transform(X_test)\n",
    "    lreg.fit(X_train_poly, y_train)\n",
    "    train_score_list.append(lreg.score(X_train_poly, y_train))\n",
    "    test_score_list.append(lreg.score(X_test_poly, y_test))\n",
    "\n",
    "print(train_score_list)\n",
    "print(test_score_list)"
   ]
  },
  {
   "cell_type": "markdown",
   "metadata": {},
   "source": [
    "### Ridge"
   ]
  },
  {
   "cell_type": "code",
   "execution_count": 52,
   "metadata": {},
   "outputs": [],
   "source": [
    "x_range = [0.01, 0.1, 1, 10, 100]\n",
    "train_score_list = []\n",
    "test_score_list = []\n",
    "\n",
    "for alpha in x_range: \n",
    "    ridge = Ridge(alpha)\n",
    "    ridge.fit(X_train,y_train)\n",
    "    train_score_list.append(ridge.score(X_train,y_train))\n",
    "    test_score_list.append(ridge.score(X_test, y_test))"
   ]
  },
  {
   "cell_type": "code",
   "execution_count": 53,
   "metadata": {},
   "outputs": [
    {
     "data": {
      "text/plain": [
       "Text(0.5, 0, '$\\\\alpha$')"
      ]
     },
     "execution_count": 53,
     "metadata": {},
     "output_type": "execute_result"
    },
    {
     "data": {
      "image/png": "[encoded data removed]",
      "text/plain": [
       "<Figure size 432x288 with 1 Axes>"
      ]
     },
     "metadata": {
      "needs_background": "light"
     },
     "output_type": "display_data"
    }
   ],
   "source": [
    "%matplotlib inline\n",
    "import matplotlib.pyplot as plt\n",
    "plt.plot(x_range, train_score_list, c = 'g', label = 'Train Score')\n",
    "plt.plot(x_range, test_score_list, c = 'b', label = 'Test Score')\n",
    "plt.xscale('log')\n",
    "plt.legend(loc = 3)\n",
    "plt.xlabel(r'$\\alpha$')"
   ]
  },
  {
   "cell_type": "markdown",
   "metadata": {},
   "source": [
    "### Lasso"
   ]
  },
  {
   "cell_type": "code",
   "execution_count": 61,
   "metadata": {},
   "outputs": [],
   "source": [
    "x_range = [0.001, 0.01]\n",
    "train_score_list = []\n",
    "test_score_list = []\n",
    "\n",
    "for alpha in x_range: \n",
    "    lasso = Lasso(alpha)\n",
    "    lasso.fit(X_train,y_train)\n",
    "    train_score_list.append(lasso.score(X_train,y_train))\n",
    "    test_score_list.append(lasso.score(X_test, y_test))"
   ]
  },
  {
   "cell_type": "code",
   "execution_count": 62,
   "metadata": {},
   "outputs": [
    {
     "data": {
      "text/plain": [
       "Text(0.5, 0, '$\\\\alpha$')"
      ]
     },
     "execution_count": 62,
     "metadata": {},
     "output_type": "execute_result"
    },
    {
     "data": {
      "image/png": "[encoded data removed]",
      "text/plain": [
       "<Figure size 432x288 with 1 Axes>"
      ]
     },
     "metadata": {
      "needs_background": "light"
     },
     "output_type": "display_data"
    }
   ],
   "source": [
    "plt.plot(x_range, train_score_list, c = 'g', label = 'Train Score')\n",
    "plt.plot(x_range, test_score_list, c = 'b', label = 'Test Score')\n",
    "plt.xscale('log')\n",
    "plt.legend(loc = 3)\n",
    "plt.xlabel(r'$\\alpha$')"
   ]
  },
  {
   "cell_type": "markdown",
   "metadata": {},
   "source": [
    "### SVR kernel Linear"
   ]
  },
  {
   "cell_type": "code",
   "execution_count": 63,
   "metadata": {},
   "outputs": [
    {
     "name": "stdout",
     "output_type": "stream",
     "text": [
      "0.859642757307469\n",
      "0.8503953653146945\n"
     ]
    }
   ],
   "source": [
    "svr_lin = SVR(kernel='linear', C=10, gamma=0.1)\n",
    "svr_lin.fit(X_train,y_train)\n",
    "print(svr_lin.score(X_train, y_train))\n",
    "print(svr_lin.score(X_test, y_test))"
   ]
  },
  {
   "cell_type": "markdown",
   "metadata": {},
   "source": [
    "### SVR kernel Poly"
   ]
  },
  {
   "cell_type": "code",
   "execution_count": 64,
   "metadata": {},
   "outputs": [
    {
     "name": "stdout",
     "output_type": "stream",
     "text": [
      "0.8365214082055668\n",
      "0.8016739974799449\n"
     ]
    }
   ],
   "source": [
    "svr_pol = SVR(kernel='poly',C=10, gamma=0.1)\n",
    "svr_pol.fit(X_train,y_train)\n",
    "print(svr_pol.score(X_train, y_train))\n",
    "print(svr_pol.score(X_test, y_test))"
   ]
  },
  {
   "cell_type": "markdown",
   "metadata": {},
   "source": [
    "### SVR kernel rbf"
   ]
  },
  {
   "cell_type": "code",
   "execution_count": 65,
   "metadata": {},
   "outputs": [
    {
     "name": "stdout",
     "output_type": "stream",
     "text": [
      "0.8528292032075967\n",
      "0.8439555847078803\n"
     ]
    }
   ],
   "source": [
    "svr_rbf = SVR(kernel='rbf', C=10, gamma=0.1)\n",
    "svr_rbf.fit(X_train,y_train)\n",
    "print(svr_rbf.score(X_train, y_train))\n",
    "print(svr_rbf.score(X_test, y_test))"
   ]
  },
  {
   "cell_type": "markdown",
   "metadata": {},
   "source": [
    "### Linear SVR"
   ]
  },
  {
   "cell_type": "code",
   "execution_count": 67,
   "metadata": {},
   "outputs": [
    {
     "name": "stdout",
     "output_type": "stream",
     "text": [
      "0.8828855317150162\n",
      "0.8800728865051283\n"
     ]
    },
    {
     "name": "stderr",
     "output_type": "stream",
     "text": [
      "C:\\Users\\Alex\\Anaconda3.7\\lib\\site-packages\\sklearn\\svm\\base.py:931: ConvergenceWarning: Liblinear failed to converge, increase the number of iterations.\n",
      "  \"the number of iterations.\", ConvergenceWarning)\n"
     ]
    }
   ],
   "source": [
    "linear_svm=LinearSVR(tol=0.0001,C=1.0,loss='epsilon_insensitive',fit_intercept=True,intercept_scaling=1.0,\n",
    "    dual=True,verbose=0,max_iter=1000,)\n",
    "linear_svm.fit(X_train,y_train)\n",
    "print(linear_svm.score(X_train, y_train))\n",
    "print(linear_svm.score(X_test, y_test))"
   ]
  },
  {
   "cell_type": "markdown",
   "metadata": {},
   "source": [
    "### Grid Search"
   ]
  },
  {
   "cell_type": "code",
   "execution_count": 68,
   "metadata": {},
   "outputs": [
    {
     "name": "stdout",
     "output_type": "stream",
     "text": [
      "Best params: {'fit_intercept': False, 'normalize': True}\n",
      "Best training accuracy: 0.880434\n"
     ]
    }
   ],
   "source": [
    "parameters = {'fit_intercept':[True,False], 'normalize':[True,False]}\n",
    "gs = GridSearchCV(LinearRegression(), parameters, cv=5)\n",
    "gs.fit(X_train, y_train)\n",
    "print('Best params: {}'.format(gs.best_params_))\n",
    "print('Best training accuracy: {:3f}'.format(gs.best_score_))\n",
    "sc_linear = gs.best_score_"
   ]
  },
  {
   "cell_type": "code",
   "execution_count": 69,
   "metadata": {},
   "outputs": [
    {
     "name": "stdout",
     "output_type": "stream",
     "text": [
      "Best params: {'alpha': 0.01, 'normalize': True, 'tol': 1e-06}\n",
      "Best training accuracy: 0.880186\n"
     ]
    }
   ],
   "source": [
    "ridge = Ridge()\n",
    "parameters = {'alpha':[0.001,0.005,0.01,0.1,0.5,1], 'normalize':[True,False], 'tol':[1e-06,5e-06,1e-05,5e-05]}\n",
    "gs = GridSearchCV(ridge, parameters, cv=5,)\n",
    "gs.fit(X_train, y_train)\n",
    "print('Best params: {}'.format(gs.best_params_))\n",
    "print('Best training accuracy: {:3f}'.format(gs.best_score_))\n",
    "sc_ridge = gs.best_score_"
   ]
  },
  {
   "cell_type": "code",
   "execution_count": 70,
   "metadata": {},
   "outputs": [
    {
     "name": "stdout",
     "output_type": "stream",
     "text": [
      "Best params: {'alpha': 0.001, 'normalize': False, 'tol': 0.001}\n",
      "Best training accuracy: 0.869622\n"
     ]
    }
   ],
   "source": [
    "parameters = {'alpha':[1e-03,0.01,0.1,0.5,0.8,1], 'normalize':[True,False], 'tol':[1e-06,1e-05,5e-05,1e-04,5e-04,1e-03]}\n",
    "gs = GridSearchCV(Lasso(), parameters, cv=5)\n",
    "gs.fit(X_train, y_train)\n",
    "print('Best params: {}'.format(gs.best_params_))\n",
    "print('Best training accuracy: {:3f}'.format(gs.best_score_))\n",
    "sc_lasso = gs.best_score_"
   ]
  },
  {
   "cell_type": "code",
   "execution_count": 344,
   "metadata": {},
   "outputs": [
    {
     "name": "stdout",
     "output_type": "stream",
     "text": [
      "Best params: {'C': 100, 'gamma': 0.01}\n",
      "Best training accuracy: 0.852136\n"
     ]
    }
   ],
   "source": [
    "parameters = { 'C':[0.001, 0.01, 0.1, 1, 10, 100], 'gamma':[0.001, 0.01, 0.1, 1, 10, 100]}\n",
    "gs = GridSearchCV(SVR(), parameters, cv=5)\n",
    "gs.fit(X_train, y_train)\n",
    "print('Best params: {}'.format(gs.best_params_))\n",
    "print('Best training accuracy: {:3f}'.format(gs.best_score_))\n",
    "sc_svr_rbf = gs.best_score_"
   ]
  },
  {
   "cell_type": "code",
   "execution_count": 345,
   "metadata": {},
   "outputs": [
    {
     "name": "stdout",
     "output_type": "stream",
     "text": [
      "Best params: {'C': 10, 'gamma': 0.001}\n",
      "Best training accuracy: 0.853088\n"
     ]
    }
   ],
   "source": [
    "parameters = { 'C':[0.001, 0.01, 0.1, 1, 10, 100], 'gamma':[0.001, 0.01, 0.1, 1, 10, 100]}\n",
    "gs = GridSearchCV(SVR(kernel='linear'), parameters, cv=5)\n",
    "gs.fit(X_train, y_train)\n",
    "print('Best params: {}'.format(gs.best_params_))\n",
    "print('Best training accuracy: {:3f}'.format(gs.best_score_))\n",
    "sc_svr_linear = gs.best_score_"
   ]
  },
  {
   "cell_type": "code",
   "execution_count": 346,
   "metadata": {},
   "outputs": [
    {
     "name": "stdout",
     "output_type": "stream",
     "text": [
      "Best params: {'C': 1, 'gamma': 0.1}\n",
      "Best training accuracy: 0.814743\n"
     ]
    },
    {
     "name": "stderr",
     "output_type": "stream",
     "text": [
      "C:\\Users\\Alex\\Anaconda3.7\\lib\\site-packages\\sklearn\\model_selection\\_search.py:841: DeprecationWarning: The default of the `iid` parameter will change from True to False in version 0.22 and will be removed in 0.24. This will change numeric results when test-set sizes are unequal.\n",
      "  DeprecationWarning)\n"
     ]
    }
   ],
   "source": [
    "parameters = { 'C':[0.001, 0.01, 0.1, 1, 10, 100], 'gamma':[0.001, 0.01, 0.1, 1, 10, 100]}\n",
    "gs = GridSearchCV(SVR(kernel='poly'), parameters, cv=5)\n",
    "gs.fit(X_train, y_train)\n",
    "print('Best params: {}'.format(gs.best_params_))\n",
    "print('Best training accuracy: {:3f}'.format(gs.best_score_))\n",
    "sc_svr_poly = gs.best_score_"
   ]
  },
  {
   "cell_type": "code",
   "execution_count": 347,
   "metadata": {},
   "outputs": [
    {
     "name": "stderr",
     "output_type": "stream",
     "text": [
      "C:\\Users\\Alex\\Anaconda3.7\\lib\\site-packages\\sklearn\\svm\\base.py:931: ConvergenceWarning: Liblinear failed to converge, increase the number of iterations.\n",
      "  \"the number of iterations.\", ConvergenceWarning)\n",
      "C:\\Users\\Alex\\Anaconda3.7\\lib\\site-packages\\sklearn\\svm\\base.py:931: ConvergenceWarning: Liblinear failed to converge, increase the number of iterations.\n",
      "  \"the number of iterations.\", ConvergenceWarning)\n",
      "C:\\Users\\Alex\\Anaconda3.7\\lib\\site-packages\\sklearn\\svm\\base.py:931: ConvergenceWarning: Liblinear failed to converge, increase the number of iterations.\n",
      "  \"the number of iterations.\", ConvergenceWarning)\n",
      "C:\\Users\\Alex\\Anaconda3.7\\lib\\site-packages\\sklearn\\svm\\base.py:931: ConvergenceWarning: Liblinear failed to converge, increase the number of iterations.\n",
      "  \"the number of iterations.\", ConvergenceWarning)\n",
      "C:\\Users\\Alex\\Anaconda3.7\\lib\\site-packages\\sklearn\\svm\\base.py:931: ConvergenceWarning: Liblinear failed to converge, increase the number of iterations.\n",
      "  \"the number of iterations.\", ConvergenceWarning)\n",
      "C:\\Users\\Alex\\Anaconda3.7\\lib\\site-packages\\sklearn\\svm\\base.py:931: ConvergenceWarning: Liblinear failed to converge, increase the number of iterations.\n",
      "  \"the number of iterations.\", ConvergenceWarning)\n",
      "C:\\Users\\Alex\\Anaconda3.7\\lib\\site-packages\\sklearn\\svm\\base.py:931: ConvergenceWarning: Liblinear failed to converge, increase the number of iterations.\n",
      "  \"the number of iterations.\", ConvergenceWarning)\n",
      "C:\\Users\\Alex\\Anaconda3.7\\lib\\site-packages\\sklearn\\svm\\base.py:931: ConvergenceWarning: Liblinear failed to converge, increase the number of iterations.\n",
      "  \"the number of iterations.\", ConvergenceWarning)\n",
      "C:\\Users\\Alex\\Anaconda3.7\\lib\\site-packages\\sklearn\\svm\\base.py:931: ConvergenceWarning: Liblinear failed to converge, increase the number of iterations.\n",
      "  \"the number of iterations.\", ConvergenceWarning)\n",
      "C:\\Users\\Alex\\Anaconda3.7\\lib\\site-packages\\sklearn\\svm\\base.py:931: ConvergenceWarning: Liblinear failed to converge, increase the number of iterations.\n",
      "  \"the number of iterations.\", ConvergenceWarning)\n",
      "C:\\Users\\Alex\\Anaconda3.7\\lib\\site-packages\\sklearn\\svm\\base.py:931: ConvergenceWarning: Liblinear failed to converge, increase the number of iterations.\n",
      "  \"the number of iterations.\", ConvergenceWarning)\n",
      "C:\\Users\\Alex\\Anaconda3.7\\lib\\site-packages\\sklearn\\svm\\base.py:931: ConvergenceWarning: Liblinear failed to converge, increase the number of iterations.\n",
      "  \"the number of iterations.\", ConvergenceWarning)\n",
      "C:\\Users\\Alex\\Anaconda3.7\\lib\\site-packages\\sklearn\\svm\\base.py:931: ConvergenceWarning: Liblinear failed to converge, increase the number of iterations.\n",
      "  \"the number of iterations.\", ConvergenceWarning)\n",
      "C:\\Users\\Alex\\Anaconda3.7\\lib\\site-packages\\sklearn\\svm\\base.py:931: ConvergenceWarning: Liblinear failed to converge, increase the number of iterations.\n",
      "  \"the number of iterations.\", ConvergenceWarning)\n",
      "C:\\Users\\Alex\\Anaconda3.7\\lib\\site-packages\\sklearn\\svm\\base.py:931: ConvergenceWarning: Liblinear failed to converge, increase the number of iterations.\n",
      "  \"the number of iterations.\", ConvergenceWarning)\n",
      "C:\\Users\\Alex\\Anaconda3.7\\lib\\site-packages\\sklearn\\svm\\base.py:931: ConvergenceWarning: Liblinear failed to converge, increase the number of iterations.\n",
      "  \"the number of iterations.\", ConvergenceWarning)\n",
      "C:\\Users\\Alex\\Anaconda3.7\\lib\\site-packages\\sklearn\\svm\\base.py:931: ConvergenceWarning: Liblinear failed to converge, increase the number of iterations.\n",
      "  \"the number of iterations.\", ConvergenceWarning)\n",
      "C:\\Users\\Alex\\Anaconda3.7\\lib\\site-packages\\sklearn\\svm\\base.py:931: ConvergenceWarning: Liblinear failed to converge, increase the number of iterations.\n",
      "  \"the number of iterations.\", ConvergenceWarning)\n",
      "C:\\Users\\Alex\\Anaconda3.7\\lib\\site-packages\\sklearn\\svm\\base.py:931: ConvergenceWarning: Liblinear failed to converge, increase the number of iterations.\n",
      "  \"the number of iterations.\", ConvergenceWarning)\n",
      "C:\\Users\\Alex\\Anaconda3.7\\lib\\site-packages\\sklearn\\svm\\base.py:931: ConvergenceWarning: Liblinear failed to converge, increase the number of iterations.\n",
      "  \"the number of iterations.\", ConvergenceWarning)\n",
      "C:\\Users\\Alex\\Anaconda3.7\\lib\\site-packages\\sklearn\\svm\\base.py:931: ConvergenceWarning: Liblinear failed to converge, increase the number of iterations.\n",
      "  \"the number of iterations.\", ConvergenceWarning)\n",
      "C:\\Users\\Alex\\Anaconda3.7\\lib\\site-packages\\sklearn\\svm\\base.py:931: ConvergenceWarning: Liblinear failed to converge, increase the number of iterations.\n",
      "  \"the number of iterations.\", ConvergenceWarning)\n",
      "C:\\Users\\Alex\\Anaconda3.7\\lib\\site-packages\\sklearn\\svm\\base.py:931: ConvergenceWarning: Liblinear failed to converge, increase the number of iterations.\n",
      "  \"the number of iterations.\", ConvergenceWarning)\n",
      "C:\\Users\\Alex\\Anaconda3.7\\lib\\site-packages\\sklearn\\svm\\base.py:931: ConvergenceWarning: Liblinear failed to converge, increase the number of iterations.\n",
      "  \"the number of iterations.\", ConvergenceWarning)\n",
      "C:\\Users\\Alex\\Anaconda3.7\\lib\\site-packages\\sklearn\\svm\\base.py:931: ConvergenceWarning: Liblinear failed to converge, increase the number of iterations.\n",
      "  \"the number of iterations.\", ConvergenceWarning)\n",
      "C:\\Users\\Alex\\Anaconda3.7\\lib\\site-packages\\sklearn\\svm\\base.py:931: ConvergenceWarning: Liblinear failed to converge, increase the number of iterations.\n",
      "  \"the number of iterations.\", ConvergenceWarning)\n",
      "C:\\Users\\Alex\\Anaconda3.7\\lib\\site-packages\\sklearn\\svm\\base.py:931: ConvergenceWarning: Liblinear failed to converge, increase the number of iterations.\n",
      "  \"the number of iterations.\", ConvergenceWarning)\n",
      "C:\\Users\\Alex\\Anaconda3.7\\lib\\site-packages\\sklearn\\svm\\base.py:931: ConvergenceWarning: Liblinear failed to converge, increase the number of iterations.\n",
      "  \"the number of iterations.\", ConvergenceWarning)\n",
      "C:\\Users\\Alex\\Anaconda3.7\\lib\\site-packages\\sklearn\\svm\\base.py:931: ConvergenceWarning: Liblinear failed to converge, increase the number of iterations.\n",
      "  \"the number of iterations.\", ConvergenceWarning)\n",
      "C:\\Users\\Alex\\Anaconda3.7\\lib\\site-packages\\sklearn\\svm\\base.py:931: ConvergenceWarning: Liblinear failed to converge, increase the number of iterations.\n",
      "  \"the number of iterations.\", ConvergenceWarning)\n",
      "C:\\Users\\Alex\\Anaconda3.7\\lib\\site-packages\\sklearn\\svm\\base.py:931: ConvergenceWarning: Liblinear failed to converge, increase the number of iterations.\n",
      "  \"the number of iterations.\", ConvergenceWarning)\n",
      "C:\\Users\\Alex\\Anaconda3.7\\lib\\site-packages\\sklearn\\svm\\base.py:931: ConvergenceWarning: Liblinear failed to converge, increase the number of iterations.\n",
      "  \"the number of iterations.\", ConvergenceWarning)\n",
      "C:\\Users\\Alex\\Anaconda3.7\\lib\\site-packages\\sklearn\\svm\\base.py:931: ConvergenceWarning: Liblinear failed to converge, increase the number of iterations.\n",
      "  \"the number of iterations.\", ConvergenceWarning)\n",
      "C:\\Users\\Alex\\Anaconda3.7\\lib\\site-packages\\sklearn\\svm\\base.py:931: ConvergenceWarning: Liblinear failed to converge, increase the number of iterations.\n",
      "  \"the number of iterations.\", ConvergenceWarning)\n",
      "C:\\Users\\Alex\\Anaconda3.7\\lib\\site-packages\\sklearn\\svm\\base.py:931: ConvergenceWarning: Liblinear failed to converge, increase the number of iterations.\n",
      "  \"the number of iterations.\", ConvergenceWarning)\n",
      "C:\\Users\\Alex\\Anaconda3.7\\lib\\site-packages\\sklearn\\svm\\base.py:931: ConvergenceWarning: Liblinear failed to converge, increase the number of iterations.\n",
      "  \"the number of iterations.\", ConvergenceWarning)\n",
      "C:\\Users\\Alex\\Anaconda3.7\\lib\\site-packages\\sklearn\\svm\\base.py:931: ConvergenceWarning: Liblinear failed to converge, increase the number of iterations.\n",
      "  \"the number of iterations.\", ConvergenceWarning)\n"
     ]
    },
    {
     "name": "stdout",
     "output_type": "stream",
     "text": [
      "Best params: {'C': 0.1, 'tol': 0.001}\n",
      "Best training accuracy: 0.877724\n"
     ]
    },
    {
     "name": "stderr",
     "output_type": "stream",
     "text": [
      "C:\\Users\\Alex\\Anaconda3.7\\lib\\site-packages\\sklearn\\svm\\base.py:931: ConvergenceWarning: Liblinear failed to converge, increase the number of iterations.\n",
      "  \"the number of iterations.\", ConvergenceWarning)\n",
      "C:\\Users\\Alex\\Anaconda3.7\\lib\\site-packages\\sklearn\\model_selection\\_search.py:841: DeprecationWarning: The default of the `iid` parameter will change from True to False in version 0.22 and will be removed in 0.24. This will change numeric results when test-set sizes are unequal.\n",
      "  DeprecationWarning)\n"
     ]
    }
   ],
   "source": [
    "parameters = { 'C':[0.001, 0.01, 0.1, 1, 10, 100], 'tol':[0.001, 0.01, 0.1, 1, 10, 100]}\n",
    "gs = GridSearchCV(LinearSVR(), parameters, cv=5)\n",
    "gs.fit(X_train, y_train)\n",
    "print('Best params: {}'.format(gs.best_params_))\n",
    "print('Best training accuracy: {:3f}'.format(gs.best_score_))\n",
    "sc_linear_svr = gs.best_score_"
   ]
  },
  {
   "cell_type": "code",
   "execution_count": 72,
   "metadata": {},
   "outputs": [
    {
     "name": "stderr",
     "output_type": "stream",
     "text": [
      "C:\\Users\\Alex\\Anaconda3.7\\lib\\site-packages\\sklearn\\linear_model\\stochastic_gradient.py:183: FutureWarning: max_iter and tol parameters have been added in SGDRegressor in 0.19. If max_iter is set but tol is left unset, the default value for tol in 0.19 and 0.20 will be None (which is equivalent to -infinity, so it has no effect) but will change in 0.21 to 1e-3. Specify tol to silence this warning.\n",
      "  FutureWarning)\n",
      "C:\\Users\\Alex\\Anaconda3.7\\lib\\site-packages\\sklearn\\linear_model\\stochastic_gradient.py:183: FutureWarning: max_iter and tol parameters have been added in SGDRegressor in 0.19. If max_iter is set but tol is left unset, the default value for tol in 0.19 and 0.20 will be None (which is equivalent to -infinity, so it has no effect) but will change in 0.21 to 1e-3. Specify tol to silence this warning.\n",
      "  FutureWarning)\n",
      "C:\\Users\\Alex\\Anaconda3.7\\lib\\site-packages\\sklearn\\linear_model\\stochastic_gradient.py:183: FutureWarning: max_iter and tol parameters have been added in SGDRegressor in 0.19. If max_iter is set but tol is left unset, the default value for tol in 0.19 and 0.20 will be None (which is equivalent to -infinity, so it has no effect) but will change in 0.21 to 1e-3. Specify tol to silence this warning.\n",
      "  FutureWarning)\n",
      "C:\\Users\\Alex\\Anaconda3.7\\lib\\site-packages\\sklearn\\linear_model\\stochastic_gradient.py:183: FutureWarning: max_iter and tol parameters have been added in SGDRegressor in 0.19. If max_iter is set but tol is left unset, the default value for tol in 0.19 and 0.20 will be None (which is equivalent to -infinity, so it has no effect) but will change in 0.21 to 1e-3. Specify tol to silence this warning.\n",
      "  FutureWarning)\n",
      "C:\\Users\\Alex\\Anaconda3.7\\lib\\site-packages\\sklearn\\linear_model\\stochastic_gradient.py:183: FutureWarning: max_iter and tol parameters have been added in SGDRegressor in 0.19. If max_iter is set but tol is left unset, the default value for tol in 0.19 and 0.20 will be None (which is equivalent to -infinity, so it has no effect) but will change in 0.21 to 1e-3. Specify tol to silence this warning.\n",
      "  FutureWarning)\n",
      "C:\\Users\\Alex\\Anaconda3.7\\lib\\site-packages\\sklearn\\linear_model\\stochastic_gradient.py:183: FutureWarning: max_iter and tol parameters have been added in SGDRegressor in 0.19. If max_iter is set but tol is left unset, the default value for tol in 0.19 and 0.20 will be None (which is equivalent to -infinity, so it has no effect) but will change in 0.21 to 1e-3. Specify tol to silence this warning.\n",
      "  FutureWarning)\n",
      "C:\\Users\\Alex\\Anaconda3.7\\lib\\site-packages\\sklearn\\linear_model\\stochastic_gradient.py:183: FutureWarning: max_iter and tol parameters have been added in SGDRegressor in 0.19. If max_iter is set but tol is left unset, the default value for tol in 0.19 and 0.20 will be None (which is equivalent to -infinity, so it has no effect) but will change in 0.21 to 1e-3. Specify tol to silence this warning.\n",
      "  FutureWarning)\n",
      "C:\\Users\\Alex\\Anaconda3.7\\lib\\site-packages\\sklearn\\linear_model\\stochastic_gradient.py:183: FutureWarning: max_iter and tol parameters have been added in SGDRegressor in 0.19. If max_iter is set but tol is left unset, the default value for tol in 0.19 and 0.20 will be None (which is equivalent to -infinity, so it has no effect) but will change in 0.21 to 1e-3. Specify tol to silence this warning.\n",
      "  FutureWarning)\n",
      "C:\\Users\\Alex\\Anaconda3.7\\lib\\site-packages\\sklearn\\linear_model\\stochastic_gradient.py:183: FutureWarning: max_iter and tol parameters have been added in SGDRegressor in 0.19. If max_iter is set but tol is left unset, the default value for tol in 0.19 and 0.20 will be None (which is equivalent to -infinity, so it has no effect) but will change in 0.21 to 1e-3. Specify tol to silence this warning.\n",
      "  FutureWarning)\n",
      "C:\\Users\\Alex\\Anaconda3.7\\lib\\site-packages\\sklearn\\linear_model\\stochastic_gradient.py:183: FutureWarning: max_iter and tol parameters have been added in SGDRegressor in 0.19. If max_iter is set but tol is left unset, the default value for tol in 0.19 and 0.20 will be None (which is equivalent to -infinity, so it has no effect) but will change in 0.21 to 1e-3. Specify tol to silence this warning.\n",
      "  FutureWarning)\n",
      "C:\\Users\\Alex\\Anaconda3.7\\lib\\site-packages\\sklearn\\linear_model\\stochastic_gradient.py:183: FutureWarning: max_iter and tol parameters have been added in SGDRegressor in 0.19. If max_iter is set but tol is left unset, the default value for tol in 0.19 and 0.20 will be None (which is equivalent to -infinity, so it has no effect) but will change in 0.21 to 1e-3. Specify tol to silence this warning.\n",
      "  FutureWarning)\n",
      "C:\\Users\\Alex\\Anaconda3.7\\lib\\site-packages\\sklearn\\linear_model\\stochastic_gradient.py:183: FutureWarning: max_iter and tol parameters have been added in SGDRegressor in 0.19. If max_iter is set but tol is left unset, the default value for tol in 0.19 and 0.20 will be None (which is equivalent to -infinity, so it has no effect) but will change in 0.21 to 1e-3. Specify tol to silence this warning.\n",
      "  FutureWarning)\n",
      "C:\\Users\\Alex\\Anaconda3.7\\lib\\site-packages\\sklearn\\linear_model\\stochastic_gradient.py:183: FutureWarning: max_iter and tol parameters have been added in SGDRegressor in 0.19. If max_iter is set but tol is left unset, the default value for tol in 0.19 and 0.20 will be None (which is equivalent to -infinity, so it has no effect) but will change in 0.21 to 1e-3. Specify tol to silence this warning.\n",
      "  FutureWarning)\n",
      "C:\\Users\\Alex\\Anaconda3.7\\lib\\site-packages\\sklearn\\linear_model\\stochastic_gradient.py:183: FutureWarning: max_iter and tol parameters have been added in SGDRegressor in 0.19. If max_iter is set but tol is left unset, the default value for tol in 0.19 and 0.20 will be None (which is equivalent to -infinity, so it has no effect) but will change in 0.21 to 1e-3. Specify tol to silence this warning.\n",
      "  FutureWarning)\n",
      "C:\\Users\\Alex\\Anaconda3.7\\lib\\site-packages\\sklearn\\linear_model\\stochastic_gradient.py:183: FutureWarning: max_iter and tol parameters have been added in SGDRegressor in 0.19. If max_iter is set but tol is left unset, the default value for tol in 0.19 and 0.20 will be None (which is equivalent to -infinity, so it has no effect) but will change in 0.21 to 1e-3. Specify tol to silence this warning.\n",
      "  FutureWarning)\n",
      "C:\\Users\\Alex\\Anaconda3.7\\lib\\site-packages\\sklearn\\linear_model\\stochastic_gradient.py:183: FutureWarning: max_iter and tol parameters have been added in SGDRegressor in 0.19. If max_iter is set but tol is left unset, the default value for tol in 0.19 and 0.20 will be None (which is equivalent to -infinity, so it has no effect) but will change in 0.21 to 1e-3. Specify tol to silence this warning.\n",
      "  FutureWarning)\n"
     ]
    },
    {
     "name": "stdout",
     "output_type": "stream",
     "text": [
      "Best params: {'alpha': 1e-05, 'epsilon': 0.001, 'fit_intercept': True, 'max_iter': 10000}\n",
      "Best training accuracy: 0.880035\n"
     ]
    }
   ],
   "source": [
    "parameters = {'max_iter' :[10000], 'alpha':[1e-05], 'epsilon':[1e-03, 1e-02, 1e-01], 'fit_intercept' : [True]}\n",
    "gs = GridSearchCV(SGDRegressor(random_state=1250), parameters, cv=5)\n",
    "gs.fit(X_train, y_train)\n",
    "print('Best params: {}'.format(gs.best_params_))\n",
    "print('Best training accuracy: {:3f}'.format(gs.best_score_))\n",
    "sc_sgd = gs.best_score_"
   ]
  },
  {
   "cell_type": "code",
   "execution_count": 74,
   "metadata": {},
   "outputs": [
    {
     "name": "stdout",
     "output_type": "stream",
     "text": [
      "Best params: {'max_depth': 8, 'max_features': 11, 'max_leaf_nodes': None, 'min_samples_split': 20, 'presort': False}\n",
      "Best training accuracy: 0.769035\n"
     ]
    }
   ],
   "source": [
    "param_grid = { 'max_depth' : [7,8,9,10] , 'max_features' : [11,12,13,14] ,\n",
    "               'max_leaf_nodes' : [None, 12,15,18,20] ,'min_samples_split' : [20,25,30],\n",
    "                'presort': [False,True]}\n",
    "            \n",
    "gs = GridSearchCV(DecisionTreeRegressor(random_state=1250), param_grid, cv=5)\n",
    "gs.fit(X_train, y_train)\n",
    "print('Best params: {}'.format(gs.best_params_))\n",
    "print('Best training accuracy: {:3f}'.format(gs.best_score_))\n",
    "sc_dtree = gs.best_score_"
   ]
  },
  {
   "cell_type": "code",
   "execution_count": 75,
   "metadata": {},
   "outputs": [
    {
     "name": "stdout",
     "output_type": "stream",
     "text": [
      "Best params: {'min_samples_split': 4, 'n_estimators': 100}\n",
      "Best training accuracy: 0.860306\n"
     ]
    }
   ],
   "source": [
    "param_grid = {'min_samples_split' : [3,4,6,10], 'n_estimators' : [70,100]}\n",
    "gs = GridSearchCV(RandomForestRegressor(), param_grid, cv=5)\n",
    "gs.fit(X_train, y_train)\n",
    "print('Best params: {}'.format(gs.best_params_))\n",
    "print('Best training accuracy: {:3f}'.format(gs.best_score_))\n",
    "sc_rf = gs.best_score_"
   ]
  },
  {
   "cell_type": "code",
   "execution_count": 76,
   "metadata": {},
   "outputs": [
    {
     "name": "stdout",
     "output_type": "stream",
     "text": [
      "Best params: {'algorithm': 'brute', 'n_neighbors': 8, 'weights': 'distance'}\n",
      "Best training accuracy: 0.809613\n"
     ]
    }
   ],
   "source": [
    "param_grid = {'n_neighbors' : [3,4,5,6,7,8,10,12,15] ,    \n",
    "              'weights' : ['uniform','distance'] ,\n",
    "              'algorithm' : ['ball_tree', 'kd_tree', 'brute']}\n",
    "\n",
    "gs = GridSearchCV(KNeighborsRegressor(), param_grid, cv=5)\n",
    "gs.fit(X_train, y_train)\n",
    "print('Best params: {}'.format(gs.best_params_))\n",
    "print('Best training accuracy: {:3f}'.format(gs.best_score_))\n",
    "sc_knn = gs.best_score_"
   ]
  },
  {
   "cell_type": "code",
   "execution_count": 348,
   "metadata": {},
   "outputs": [],
   "source": [
    "list_scores = [sc_linear, sc_ridge, sc_lasso, sc_svr_rbf,sc_svr_linear,sc_svr_poly,sc_linear_svr, sc_sgd, sc_dtree, sc_rf, sc_knn]\n",
    "list_regressors = ['Linear','Ridge','Lasso', 'SVR_rbf','SVR_linear','SVR_poly','Linear_SVR', 'SGD','DTr','RF','KNN']"
   ]
  },
  {
   "cell_type": "code",
   "execution_count": 349,
   "metadata": {},
   "outputs": [
    {
     "data": {
      "image/png": "[encoded data removed]",
      "text/plain": [
       "<Figure size 720x504 with 1 Axes>"
      ]
     },
     "metadata": {
      "needs_background": "light"
     },
     "output_type": "display_data"
    }
   ],
   "source": [
    "fig, ax = plt.subplots()\n",
    "fig.set_size_inches(10,7)\n",
    "sns.barplot(x=list_regressors, y=list_scores, ax=ax)\n",
    "plt.ylabel('RMSE')\n",
    "plt.show()"
   ]
  },
  {
   "cell_type": "markdown",
   "metadata": {},
   "source": [
    "# <font color='red'> Final Project\n",
    "\n",
    "### Apply any two models with Bagging and any two models with Pasting\n",
    "\n",
    "we applied \"Decision Tree regressor\" and \"KNN regressor\" with bagging \n",
    "            and \n",
    "           \"Decision Tree regressor\" and \"KNN regressor\" with pasting:"
   ]
  },
  {
   "cell_type": "code",
   "execution_count": 79,
   "metadata": {},
   "outputs": [
    {
     "data": {
      "text/plain": [
       "0.858481604039941"
      ]
     },
     "execution_count": 79,
     "metadata": {},
     "output_type": "execute_result"
    }
   ],
   "source": [
    "dt = DecisionTreeRegressor(max_depth=8, max_features=11, max_leaf_nodes=None, min_samples_split=20, presort=False)\n",
    "bag1 = BaggingRegressor(dt, n_estimators=500, bootstrap=True, n_jobs=-1, oob_score=True, random_state=1250)\n",
    "\n",
    "bag1.fit(X_train, y_train)\n",
    "bag1.oob_score_"
   ]
  },
  {
   "cell_type": "code",
   "execution_count": 80,
   "metadata": {},
   "outputs": [
    {
     "data": {
      "text/plain": [
       "0.8214073312454437"
      ]
     },
     "execution_count": 80,
     "metadata": {},
     "output_type": "execute_result"
    }
   ],
   "source": [
    "knn = KNeighborsRegressor(algorithm= 'brute', n_neighbors=8, weights= 'distance')\n",
    "bag2 = BaggingRegressor(knn, n_estimators=500, bootstrap=True, n_jobs=-1, oob_score=True, random_state=1250)\n",
    "\n",
    "bag2.fit(X_train, y_train)\n",
    "bag2.oob_score_"
   ]
  },
  {
   "cell_type": "code",
   "execution_count": 81,
   "metadata": {},
   "outputs": [
    {
     "name": "stdout",
     "output_type": "stream",
     "text": [
      "Accuracy on training set: 0.938\n",
      "Accuracy on test set: 0.855\n"
     ]
    }
   ],
   "source": [
    "dt = DecisionTreeRegressor(max_depth=8, max_features=11, max_leaf_nodes=None, min_samples_split=20, presort=False)\n",
    "paste1 = BaggingRegressor(dt, n_estimators=500, bootstrap=False, n_jobs=-1, random_state=1250)\n",
    "\n",
    "paste1.fit(X_train, y_train)\n",
    "print(\"Accuracy on training set: {:.3f}\".format(paste1.score(X_train, y_train)))\n",
    "print(\"Accuracy on test set: {:.3f}\".format(paste1.score(X_test, y_test)))"
   ]
  },
  {
   "cell_type": "code",
   "execution_count": 82,
   "metadata": {},
   "outputs": [
    {
     "name": "stdout",
     "output_type": "stream",
     "text": [
      "Accuracy on training set: 0.864\n",
      "Accuracy on test set: 0.854\n"
     ]
    }
   ],
   "source": [
    "svr = SVR(C=100, gamma=0.01)\n",
    "paste2 = BaggingRegressor(svr, n_estimators=500, bootstrap=False, n_jobs=-1, random_state=1250)\n",
    "\n",
    "paste2.fit(X_train, y_train)\n",
    "print(\"Accuracy on training set: {:.3f}\".format(paste2.score(X_train, y_train)))\n",
    "print(\"Accuracy on test set: {:.3f}\".format(paste2.score(X_test, y_test)))"
   ]
  },
  {
   "cell_type": "markdown",
   "metadata": {},
   "source": [
    "### Apply any two models with AdaBoost\n",
    "\n",
    "We applied \"Decision Tree regressor\" and \"SVR\" with Adaboost for this section:"
   ]
  },
  {
   "cell_type": "code",
   "execution_count": 83,
   "metadata": {},
   "outputs": [
    {
     "name": "stdout",
     "output_type": "stream",
     "text": [
      "Accuracy on training set: 0.969\n",
      "Accuracy on test set: 0.881\n"
     ]
    }
   ],
   "source": [
    "dt = DecisionTreeRegressor(max_depth=8, max_features=11, max_leaf_nodes=None, min_samples_split=20, presort=False)\n",
    "ada1 = AdaBoostRegressor(dt, n_estimators=500, learning_rate=0.5, random_state=1250)\n",
    "\n",
    "ada1.fit(X_train, y_train)\n",
    "print(\"Accuracy on training set: {:.3f}\".format(ada1.score(X_train, y_train)))\n",
    "print(\"Accuracy on test set: {:.3f}\".format(ada1.score(X_test, y_test)))"
   ]
  },
  {
   "cell_type": "code",
   "execution_count": 84,
   "metadata": {},
   "outputs": [
    {
     "name": "stdout",
     "output_type": "stream",
     "text": [
      "Accuracy on training set: 0.847\n",
      "Accuracy on test set: 0.834\n"
     ]
    }
   ],
   "source": [
    "svr = SVR(C=100, gamma=0.01)\n",
    "ada2 = AdaBoostRegressor(svr, n_estimators=500, learning_rate=0.1, random_state=1250)\n",
    "\n",
    "ada2.fit(X_train, y_train)\n",
    "print(\"Accuracy on training set: {:.3f}\".format(ada2.score(X_train, y_train)))\n",
    "print(\"Accuracy on test set: {:.3f}\".format(ada2.score(X_test, y_test)))"
   ]
  },
  {
   "cell_type": "markdown",
   "metadata": {},
   "source": [
    "### Apply one model with Gradient Boosting:\n"
   ]
  },
  {
   "cell_type": "code",
   "execution_count": 85,
   "metadata": {},
   "outputs": [
    {
     "data": {
      "text/plain": [
       "GradientBoostingRegressor(alpha=0.9, criterion='friedman_mse', init=None,\n",
       "             learning_rate=0.1, loss='ls', max_depth=2, max_features=None,\n",
       "             max_leaf_nodes=None, min_impurity_decrease=0.0,\n",
       "             min_impurity_split=None, min_samples_leaf=1,\n",
       "             min_samples_split=2, min_weight_fraction_leaf=0.0,\n",
       "             n_estimators=100, n_iter_no_change=None, presort='auto',\n",
       "             random_state=42, subsample=1.0, tol=0.0001,\n",
       "             validation_fraction=0.1, verbose=0, warm_start=False)"
      ]
     },
     "execution_count": 85,
     "metadata": {},
     "output_type": "execute_result"
    }
   ],
   "source": [
    "gbrt = GradientBoostingRegressor(max_depth=2, n_estimators=100, learning_rate=0.1, random_state=42)\n",
    "gbrt.fit(X_train, y_train)"
   ]
  },
  {
   "cell_type": "code",
   "execution_count": 86,
   "metadata": {},
   "outputs": [
    {
     "name": "stdout",
     "output_type": "stream",
     "text": [
      "Accuracy on training set: 0.916\n",
      "Accuracy on test set: 0.893\n"
     ]
    }
   ],
   "source": [
    "print(\"Accuracy on training set: {:.3f}\".format(gbrt.score(X_train, y_train)))\n",
    "print(\"Accuracy on test set: {:.3f}\".format(gbrt.score(X_test, y_test)))"
   ]
  },
  {
   "cell_type": "markdown",
   "metadata": {},
   "source": [
    "## Principal Component Analysis (PCA)\n",
    "\n",
    "Here, we choose the features which describe 95% of the variations in the dataset:"
   ]
  },
  {
   "cell_type": "code",
   "execution_count": 87,
   "metadata": {},
   "outputs": [],
   "source": [
    "pca = PCA(n_components=.95)\n",
    "\n",
    "X_train_reduced = pca.fit_transform(X_train)\n",
    "X_test_reduced = pca.transform(X_test)"
   ]
  },
  {
   "cell_type": "code",
   "execution_count": 88,
   "metadata": {},
   "outputs": [
    {
     "data": {
      "text/plain": [
       "array([0.53917247, 0.10149298, 0.0671051 , 0.05391313, 0.04945221,\n",
       "       0.0383227 , 0.03637004, 0.02563491, 0.02254668, 0.01737133])"
      ]
     },
     "execution_count": 88,
     "metadata": {},
     "output_type": "execute_result"
    }
   ],
   "source": [
    "pca.explained_variance_ratio_"
   ]
  },
  {
   "cell_type": "markdown",
   "metadata": {},
   "source": [
    "### Linear regression with PCA features:"
   ]
  },
  {
   "cell_type": "code",
   "execution_count": 350,
   "metadata": {},
   "outputs": [
    {
     "name": "stdout",
     "output_type": "stream",
     "text": [
      "Best params: {'fit_intercept': True, 'normalize': False}\n",
      "Best training accuracy: 0.857931\n"
     ]
    }
   ],
   "source": [
    "parameters = {'fit_intercept':[True,False], 'normalize':[True,False]}\n",
    "gs = GridSearchCV(LinearRegression(), parameters, cv=5)\n",
    "gs.fit(X_train_reduced, y_train)\n",
    "print('Best params: {}'.format(gs.best_params_))\n",
    "print('Best training accuracy: {:3f}'.format(gs.best_score_))\n",
    "sc_linear_pca = gs.best_score_"
   ]
  },
  {
   "cell_type": "markdown",
   "metadata": {},
   "source": [
    "### Ridge with PCA features"
   ]
  },
  {
   "cell_type": "code",
   "execution_count": 351,
   "metadata": {},
   "outputs": [
    {
     "name": "stdout",
     "output_type": "stream",
     "text": [
      "Best params: {'alpha': 0.5, 'normalize': False, 'tol': 1e-06}\n",
      "Best training accuracy: 0.858008\n"
     ]
    }
   ],
   "source": [
    "ridge = Ridge()\n",
    "parameters = {'alpha':[0.001,0.005,0.01,0.1,0.5,1], 'normalize':[True,False], 'tol':[1e-06,5e-06,1e-05,5e-05]}\n",
    "gs = GridSearchCV(ridge, parameters, cv=5,)\n",
    "gs.fit(X_train_reduced, y_train)\n",
    "print('Best params: {}'.format(gs.best_params_))\n",
    "print('Best training accuracy: {:3f}'.format(gs.best_score_))\n",
    "sc_ridge_pca = gs.best_score_"
   ]
  },
  {
   "cell_type": "markdown",
   "metadata": {},
   "source": [
    "### Lasso with PCA features"
   ]
  },
  {
   "cell_type": "code",
   "execution_count": 352,
   "metadata": {},
   "outputs": [
    {
     "name": "stdout",
     "output_type": "stream",
     "text": [
      "Best params: {'alpha': 0.001, 'normalize': False, 'tol': 0.0001}\n",
      "Best training accuracy: 0.841758\n"
     ]
    }
   ],
   "source": [
    "parameters = {'alpha':[1e-03,0.01,0.1,0.5,0.8,1], 'normalize':[True,False], 'tol':[1e-06,1e-05,5e-05,1e-04,5e-04,1e-03]}\n",
    "gs = GridSearchCV(Lasso(), parameters, cv=5)\n",
    "gs.fit(X_train_reduced, y_train)\n",
    "print('Best params: {}'.format(gs.best_params_))\n",
    "print('Best training accuracy: {:3f}'.format(gs.best_score_))\n",
    "sc_lasso_pca = gs.best_score_"
   ]
  },
  {
   "cell_type": "markdown",
   "metadata": {},
   "source": [
    "### SVR (rbf) with PCA features"
   ]
  },
  {
   "cell_type": "code",
   "execution_count": 353,
   "metadata": {},
   "outputs": [
    {
     "name": "stdout",
     "output_type": "stream",
     "text": [
      "Best params: {'C': 10, 'gamma': 0.01}\n",
      "Best training accuracy: 0.836626\n"
     ]
    }
   ],
   "source": [
    "parameters = { 'C':[0.001, 0.01, 0.1, 1, 10, 100], 'gamma':[0.001, 0.01, 0.1, 1, 10, 100]}\n",
    "gs = GridSearchCV(SVR(), parameters, cv=5)\n",
    "gs.fit(X_train_reduced, y_train)\n",
    "print('Best params: {}'.format(gs.best_params_))\n",
    "print('Best training accuracy: {:3f}'.format(gs.best_score_))\n",
    "sc_svr_rbf_pca = gs.best_score_"
   ]
  },
  {
   "cell_type": "markdown",
   "metadata": {},
   "source": [
    "### SVR (linear) with PCA features"
   ]
  },
  {
   "cell_type": "code",
   "execution_count": 355,
   "metadata": {},
   "outputs": [
    {
     "name": "stdout",
     "output_type": "stream",
     "text": [
      "Best params: {'C': 10, 'gamma': 0.001}\n",
      "Best training accuracy: 0.835989\n"
     ]
    }
   ],
   "source": [
    "parameters = { 'C':[0.001, 0.01, 0.1, 1, 10, 100], 'gamma':[0.001, 0.01, 0.1, 1, 10, 100]}\n",
    "gs = GridSearchCV(SVR(kernel='linear'), parameters, cv=5)\n",
    "gs.fit(X_train_reduced, y_train)\n",
    "print('Best params: {}'.format(gs.best_params_))\n",
    "print('Best training accuracy: {:3f}'.format(gs.best_score_))\n",
    "sc_svr_linear_pca = gs.best_score_"
   ]
  },
  {
   "cell_type": "markdown",
   "metadata": {},
   "source": [
    "### SVR (poly) with PCA features"
   ]
  },
  {
   "cell_type": "code",
   "execution_count": null,
   "metadata": {},
   "outputs": [],
   "source": [
    "parameters = { 'C':[0.001, 0.01, 0.1, 1, 10, 100], 'gamma':[0.001, 0.01, 0.1, 1, 10, 100]}\n",
    "gs = GridSearchCV(SVR(kernel='poly'), parameters, cv=5)\n",
    "gs.fit(X_train_reduced, y_train)\n",
    "print('Best params: {}'.format(gs.best_params_))\n",
    "print('Best training accuracy: {:3f}'.format(gs.best_score_))\n",
    "sc_svr_poly_pca = gs.best_score_"
   ]
  },
  {
   "cell_type": "markdown",
   "metadata": {},
   "source": [
    "### Linear SVR with PCA features"
   ]
  },
  {
   "cell_type": "code",
   "execution_count": 358,
   "metadata": {},
   "outputs": [
    {
     "name": "stderr",
     "output_type": "stream",
     "text": [
      "C:\\Users\\Alex\\Anaconda3.7\\lib\\site-packages\\sklearn\\svm\\base.py:931: ConvergenceWarning: Liblinear failed to converge, increase the number of iterations.\n",
      "  \"the number of iterations.\", ConvergenceWarning)\n",
      "C:\\Users\\Alex\\Anaconda3.7\\lib\\site-packages\\sklearn\\svm\\base.py:931: ConvergenceWarning: Liblinear failed to converge, increase the number of iterations.\n",
      "  \"the number of iterations.\", ConvergenceWarning)\n",
      "C:\\Users\\Alex\\Anaconda3.7\\lib\\site-packages\\sklearn\\svm\\base.py:931: ConvergenceWarning: Liblinear failed to converge, increase the number of iterations.\n",
      "  \"the number of iterations.\", ConvergenceWarning)\n",
      "C:\\Users\\Alex\\Anaconda3.7\\lib\\site-packages\\sklearn\\svm\\base.py:931: ConvergenceWarning: Liblinear failed to converge, increase the number of iterations.\n",
      "  \"the number of iterations.\", ConvergenceWarning)\n",
      "C:\\Users\\Alex\\Anaconda3.7\\lib\\site-packages\\sklearn\\svm\\base.py:931: ConvergenceWarning: Liblinear failed to converge, increase the number of iterations.\n",
      "  \"the number of iterations.\", ConvergenceWarning)\n",
      "C:\\Users\\Alex\\Anaconda3.7\\lib\\site-packages\\sklearn\\svm\\base.py:931: ConvergenceWarning: Liblinear failed to converge, increase the number of iterations.\n",
      "  \"the number of iterations.\", ConvergenceWarning)\n",
      "C:\\Users\\Alex\\Anaconda3.7\\lib\\site-packages\\sklearn\\svm\\base.py:931: ConvergenceWarning: Liblinear failed to converge, increase the number of iterations.\n",
      "  \"the number of iterations.\", ConvergenceWarning)\n",
      "C:\\Users\\Alex\\Anaconda3.7\\lib\\site-packages\\sklearn\\svm\\base.py:931: ConvergenceWarning: Liblinear failed to converge, increase the number of iterations.\n",
      "  \"the number of iterations.\", ConvergenceWarning)\n",
      "C:\\Users\\Alex\\Anaconda3.7\\lib\\site-packages\\sklearn\\svm\\base.py:931: ConvergenceWarning: Liblinear failed to converge, increase the number of iterations.\n",
      "  \"the number of iterations.\", ConvergenceWarning)\n",
      "C:\\Users\\Alex\\Anaconda3.7\\lib\\site-packages\\sklearn\\svm\\base.py:931: ConvergenceWarning: Liblinear failed to converge, increase the number of iterations.\n",
      "  \"the number of iterations.\", ConvergenceWarning)\n",
      "C:\\Users\\Alex\\Anaconda3.7\\lib\\site-packages\\sklearn\\svm\\base.py:931: ConvergenceWarning: Liblinear failed to converge, increase the number of iterations.\n",
      "  \"the number of iterations.\", ConvergenceWarning)\n",
      "C:\\Users\\Alex\\Anaconda3.7\\lib\\site-packages\\sklearn\\svm\\base.py:931: ConvergenceWarning: Liblinear failed to converge, increase the number of iterations.\n",
      "  \"the number of iterations.\", ConvergenceWarning)\n",
      "C:\\Users\\Alex\\Anaconda3.7\\lib\\site-packages\\sklearn\\svm\\base.py:931: ConvergenceWarning: Liblinear failed to converge, increase the number of iterations.\n",
      "  \"the number of iterations.\", ConvergenceWarning)\n",
      "C:\\Users\\Alex\\Anaconda3.7\\lib\\site-packages\\sklearn\\svm\\base.py:931: ConvergenceWarning: Liblinear failed to converge, increase the number of iterations.\n",
      "  \"the number of iterations.\", ConvergenceWarning)\n",
      "C:\\Users\\Alex\\Anaconda3.7\\lib\\site-packages\\sklearn\\svm\\base.py:931: ConvergenceWarning: Liblinear failed to converge, increase the number of iterations.\n",
      "  \"the number of iterations.\", ConvergenceWarning)\n",
      "C:\\Users\\Alex\\Anaconda3.7\\lib\\site-packages\\sklearn\\svm\\base.py:931: ConvergenceWarning: Liblinear failed to converge, increase the number of iterations.\n",
      "  \"the number of iterations.\", ConvergenceWarning)\n",
      "C:\\Users\\Alex\\Anaconda3.7\\lib\\site-packages\\sklearn\\svm\\base.py:931: ConvergenceWarning: Liblinear failed to converge, increase the number of iterations.\n",
      "  \"the number of iterations.\", ConvergenceWarning)\n",
      "C:\\Users\\Alex\\Anaconda3.7\\lib\\site-packages\\sklearn\\svm\\base.py:931: ConvergenceWarning: Liblinear failed to converge, increase the number of iterations.\n",
      "  \"the number of iterations.\", ConvergenceWarning)\n",
      "C:\\Users\\Alex\\Anaconda3.7\\lib\\site-packages\\sklearn\\svm\\base.py:931: ConvergenceWarning: Liblinear failed to converge, increase the number of iterations.\n",
      "  \"the number of iterations.\", ConvergenceWarning)\n",
      "C:\\Users\\Alex\\Anaconda3.7\\lib\\site-packages\\sklearn\\svm\\base.py:931: ConvergenceWarning: Liblinear failed to converge, increase the number of iterations.\n",
      "  \"the number of iterations.\", ConvergenceWarning)\n",
      "C:\\Users\\Alex\\Anaconda3.7\\lib\\site-packages\\sklearn\\svm\\base.py:931: ConvergenceWarning: Liblinear failed to converge, increase the number of iterations.\n",
      "  \"the number of iterations.\", ConvergenceWarning)\n",
      "C:\\Users\\Alex\\Anaconda3.7\\lib\\site-packages\\sklearn\\svm\\base.py:931: ConvergenceWarning: Liblinear failed to converge, increase the number of iterations.\n",
      "  \"the number of iterations.\", ConvergenceWarning)\n",
      "C:\\Users\\Alex\\Anaconda3.7\\lib\\site-packages\\sklearn\\svm\\base.py:931: ConvergenceWarning: Liblinear failed to converge, increase the number of iterations.\n",
      "  \"the number of iterations.\", ConvergenceWarning)\n",
      "C:\\Users\\Alex\\Anaconda3.7\\lib\\site-packages\\sklearn\\svm\\base.py:931: ConvergenceWarning: Liblinear failed to converge, increase the number of iterations.\n",
      "  \"the number of iterations.\", ConvergenceWarning)\n",
      "C:\\Users\\Alex\\Anaconda3.7\\lib\\site-packages\\sklearn\\svm\\base.py:931: ConvergenceWarning: Liblinear failed to converge, increase the number of iterations.\n",
      "  \"the number of iterations.\", ConvergenceWarning)\n"
     ]
    },
    {
     "name": "stdout",
     "output_type": "stream",
     "text": [
      "Best params: {'C': 0.1, 'tol': 0.001}\n",
      "Best training accuracy: 0.855908\n"
     ]
    },
    {
     "name": "stderr",
     "output_type": "stream",
     "text": [
      "C:\\Users\\Alex\\Anaconda3.7\\lib\\site-packages\\sklearn\\svm\\base.py:931: ConvergenceWarning: Liblinear failed to converge, increase the number of iterations.\n",
      "  \"the number of iterations.\", ConvergenceWarning)\n",
      "C:\\Users\\Alex\\Anaconda3.7\\lib\\site-packages\\sklearn\\model_selection\\_search.py:841: DeprecationWarning: The default of the `iid` parameter will change from True to False in version 0.22 and will be removed in 0.24. This will change numeric results when test-set sizes are unequal.\n",
      "  DeprecationWarning)\n"
     ]
    }
   ],
   "source": [
    "parameters = { 'C':[0.001, 0.01, 0.1, 1, 10, 100], 'tol':[0.001, 0.01, 0.1, 1, 10, 100]}\n",
    "gs = GridSearchCV(LinearSVR(), parameters, cv=5)\n",
    "gs.fit(X_train_reduced, y_train)\n",
    "print('Best params: {}'.format(gs.best_params_))\n",
    "print('Best training accuracy: {:3f}'.format(gs.best_score_))\n",
    "sc_linear_svr_pca = gs.best_score_"
   ]
  },
  {
   "cell_type": "markdown",
   "metadata": {},
   "source": [
    "### SGD Regressor with PCA features"
   ]
  },
  {
   "cell_type": "code",
   "execution_count": 93,
   "metadata": {},
   "outputs": [
    {
     "name": "stderr",
     "output_type": "stream",
     "text": [
      "C:\\Users\\Alex\\Anaconda3.7\\lib\\site-packages\\sklearn\\linear_model\\stochastic_gradient.py:183: FutureWarning: max_iter and tol parameters have been added in SGDRegressor in 0.19. If max_iter is set but tol is left unset, the default value for tol in 0.19 and 0.20 will be None (which is equivalent to -infinity, so it has no effect) but will change in 0.21 to 1e-3. Specify tol to silence this warning.\n",
      "  FutureWarning)\n",
      "C:\\Users\\Alex\\Anaconda3.7\\lib\\site-packages\\sklearn\\linear_model\\stochastic_gradient.py:183: FutureWarning: max_iter and tol parameters have been added in SGDRegressor in 0.19. If max_iter is set but tol is left unset, the default value for tol in 0.19 and 0.20 will be None (which is equivalent to -infinity, so it has no effect) but will change in 0.21 to 1e-3. Specify tol to silence this warning.\n",
      "  FutureWarning)\n",
      "C:\\Users\\Alex\\Anaconda3.7\\lib\\site-packages\\sklearn\\linear_model\\stochastic_gradient.py:183: FutureWarning: max_iter and tol parameters have been added in SGDRegressor in 0.19. If max_iter is set but tol is left unset, the default value for tol in 0.19 and 0.20 will be None (which is equivalent to -infinity, so it has no effect) but will change in 0.21 to 1e-3. Specify tol to silence this warning.\n",
      "  FutureWarning)\n",
      "C:\\Users\\Alex\\Anaconda3.7\\lib\\site-packages\\sklearn\\linear_model\\stochastic_gradient.py:183: FutureWarning: max_iter and tol parameters have been added in SGDRegressor in 0.19. If max_iter is set but tol is left unset, the default value for tol in 0.19 and 0.20 will be None (which is equivalent to -infinity, so it has no effect) but will change in 0.21 to 1e-3. Specify tol to silence this warning.\n",
      "  FutureWarning)\n",
      "C:\\Users\\Alex\\Anaconda3.7\\lib\\site-packages\\sklearn\\linear_model\\stochastic_gradient.py:183: FutureWarning: max_iter and tol parameters have been added in SGDRegressor in 0.19. If max_iter is set but tol is left unset, the default value for tol in 0.19 and 0.20 will be None (which is equivalent to -infinity, so it has no effect) but will change in 0.21 to 1e-3. Specify tol to silence this warning.\n",
      "  FutureWarning)\n",
      "C:\\Users\\Alex\\Anaconda3.7\\lib\\site-packages\\sklearn\\linear_model\\stochastic_gradient.py:183: FutureWarning: max_iter and tol parameters have been added in SGDRegressor in 0.19. If max_iter is set but tol is left unset, the default value for tol in 0.19 and 0.20 will be None (which is equivalent to -infinity, so it has no effect) but will change in 0.21 to 1e-3. Specify tol to silence this warning.\n",
      "  FutureWarning)\n",
      "C:\\Users\\Alex\\Anaconda3.7\\lib\\site-packages\\sklearn\\linear_model\\stochastic_gradient.py:183: FutureWarning: max_iter and tol parameters have been added in SGDRegressor in 0.19. If max_iter is set but tol is left unset, the default value for tol in 0.19 and 0.20 will be None (which is equivalent to -infinity, so it has no effect) but will change in 0.21 to 1e-3. Specify tol to silence this warning.\n",
      "  FutureWarning)\n",
      "C:\\Users\\Alex\\Anaconda3.7\\lib\\site-packages\\sklearn\\linear_model\\stochastic_gradient.py:183: FutureWarning: max_iter and tol parameters have been added in SGDRegressor in 0.19. If max_iter is set but tol is left unset, the default value for tol in 0.19 and 0.20 will be None (which is equivalent to -infinity, so it has no effect) but will change in 0.21 to 1e-3. Specify tol to silence this warning.\n",
      "  FutureWarning)\n",
      "C:\\Users\\Alex\\Anaconda3.7\\lib\\site-packages\\sklearn\\linear_model\\stochastic_gradient.py:183: FutureWarning: max_iter and tol parameters have been added in SGDRegressor in 0.19. If max_iter is set but tol is left unset, the default value for tol in 0.19 and 0.20 will be None (which is equivalent to -infinity, so it has no effect) but will change in 0.21 to 1e-3. Specify tol to silence this warning.\n",
      "  FutureWarning)\n",
      "C:\\Users\\Alex\\Anaconda3.7\\lib\\site-packages\\sklearn\\linear_model\\stochastic_gradient.py:183: FutureWarning: max_iter and tol parameters have been added in SGDRegressor in 0.19. If max_iter is set but tol is left unset, the default value for tol in 0.19 and 0.20 will be None (which is equivalent to -infinity, so it has no effect) but will change in 0.21 to 1e-3. Specify tol to silence this warning.\n",
      "  FutureWarning)\n",
      "C:\\Users\\Alex\\Anaconda3.7\\lib\\site-packages\\sklearn\\linear_model\\stochastic_gradient.py:183: FutureWarning: max_iter and tol parameters have been added in SGDRegressor in 0.19. If max_iter is set but tol is left unset, the default value for tol in 0.19 and 0.20 will be None (which is equivalent to -infinity, so it has no effect) but will change in 0.21 to 1e-3. Specify tol to silence this warning.\n",
      "  FutureWarning)\n",
      "C:\\Users\\Alex\\Anaconda3.7\\lib\\site-packages\\sklearn\\linear_model\\stochastic_gradient.py:183: FutureWarning: max_iter and tol parameters have been added in SGDRegressor in 0.19. If max_iter is set but tol is left unset, the default value for tol in 0.19 and 0.20 will be None (which is equivalent to -infinity, so it has no effect) but will change in 0.21 to 1e-3. Specify tol to silence this warning.\n",
      "  FutureWarning)\n",
      "C:\\Users\\Alex\\Anaconda3.7\\lib\\site-packages\\sklearn\\linear_model\\stochastic_gradient.py:183: FutureWarning: max_iter and tol parameters have been added in SGDRegressor in 0.19. If max_iter is set but tol is left unset, the default value for tol in 0.19 and 0.20 will be None (which is equivalent to -infinity, so it has no effect) but will change in 0.21 to 1e-3. Specify tol to silence this warning.\n",
      "  FutureWarning)\n",
      "C:\\Users\\Alex\\Anaconda3.7\\lib\\site-packages\\sklearn\\linear_model\\stochastic_gradient.py:183: FutureWarning: max_iter and tol parameters have been added in SGDRegressor in 0.19. If max_iter is set but tol is left unset, the default value for tol in 0.19 and 0.20 will be None (which is equivalent to -infinity, so it has no effect) but will change in 0.21 to 1e-3. Specify tol to silence this warning.\n",
      "  FutureWarning)\n",
      "C:\\Users\\Alex\\Anaconda3.7\\lib\\site-packages\\sklearn\\linear_model\\stochastic_gradient.py:183: FutureWarning: max_iter and tol parameters have been added in SGDRegressor in 0.19. If max_iter is set but tol is left unset, the default value for tol in 0.19 and 0.20 will be None (which is equivalent to -infinity, so it has no effect) but will change in 0.21 to 1e-3. Specify tol to silence this warning.\n",
      "  FutureWarning)\n",
      "C:\\Users\\Alex\\Anaconda3.7\\lib\\site-packages\\sklearn\\linear_model\\stochastic_gradient.py:183: FutureWarning: max_iter and tol parameters have been added in SGDRegressor in 0.19. If max_iter is set but tol is left unset, the default value for tol in 0.19 and 0.20 will be None (which is equivalent to -infinity, so it has no effect) but will change in 0.21 to 1e-3. Specify tol to silence this warning.\n",
      "  FutureWarning)\n"
     ]
    },
    {
     "name": "stdout",
     "output_type": "stream",
     "text": [
      "Best params: {'alpha': 1e-05, 'epsilon': 0.001, 'fit_intercept': True, 'max_iter': 10000}\n",
      "Best training accuracy: 0.857935\n"
     ]
    }
   ],
   "source": [
    "parameters = {'max_iter' :[10000], 'alpha':[1e-05], 'epsilon':[1e-03, 1e-02, 1e-01], 'fit_intercept' : [True]}\n",
    "gs = GridSearchCV(SGDRegressor(random_state=1250), parameters, cv=5)\n",
    "gs.fit(X_train_reduced, y_train)\n",
    "print('Best params: {}'.format(gs.best_params_))\n",
    "print('Best training accuracy: {:3f}'.format(gs.best_score_))\n",
    "sc_sgd_pca = gs.best_score_"
   ]
  },
  {
   "cell_type": "markdown",
   "metadata": {},
   "source": [
    "### Decision tree regressor with PCA features"
   ]
  },
  {
   "cell_type": "code",
   "execution_count": 94,
   "metadata": {},
   "outputs": [
    {
     "name": "stdout",
     "output_type": "stream",
     "text": [
      "Best params: {'max_depth': 8, 'max_features': 11, 'max_leaf_nodes': None, 'min_samples_split': 20, 'presort': False}\n",
      "Best training accuracy: 0.769035\n"
     ]
    }
   ],
   "source": [
    "param_grid = { 'max_depth' : [7,8,9,10] , 'max_features' : [11,12,13,14] ,\n",
    "               'max_leaf_nodes' : [None, 12,15,18,20] ,'min_samples_split' : [20,25,30],\n",
    "                'presort': [False,True]}\n",
    "            \n",
    "gs = GridSearchCV(DecisionTreeRegressor(random_state=1250), param_grid, cv=5)\n",
    "gs.fit(X_train, y_train)\n",
    "print('Best params: {}'.format(gs.best_params_))\n",
    "print('Best training accuracy: {:3f}'.format(gs.best_score_))\n",
    "sc_dtree_pca = gs.best_score_"
   ]
  },
  {
   "cell_type": "markdown",
   "metadata": {},
   "source": [
    "### Random forest regressor with PCA features"
   ]
  },
  {
   "cell_type": "code",
   "execution_count": 95,
   "metadata": {},
   "outputs": [
    {
     "name": "stdout",
     "output_type": "stream",
     "text": [
      "Best params: {'min_samples_split': 10, 'n_estimators': 100}\n",
      "Best training accuracy: 0.838769\n"
     ]
    }
   ],
   "source": [
    "param_grid = {'min_samples_split' : [3,4,6,10], 'n_estimators' : [70,100]}\n",
    "gs = GridSearchCV(RandomForestRegressor(), param_grid, cv=5)\n",
    "gs.fit(X_train_reduced, y_train)\n",
    "print('Best params: {}'.format(gs.best_params_))\n",
    "print('Best training accuracy: {:3f}'.format(gs.best_score_))\n",
    "sc_rf_pca = gs.best_score_"
   ]
  },
  {
   "cell_type": "markdown",
   "metadata": {},
   "source": [
    "### KNN regressor with PCA features"
   ]
  },
  {
   "cell_type": "code",
   "execution_count": 96,
   "metadata": {},
   "outputs": [
    {
     "name": "stdout",
     "output_type": "stream",
     "text": [
      "Best params: {'algorithm': 'ball_tree', 'n_neighbors': 8, 'weights': 'distance'}\n",
      "Best training accuracy: 0.805846\n"
     ]
    }
   ],
   "source": [
    "param_grid = {'n_neighbors' : [3,4,5,6,7,8,10,12,15] ,    \n",
    "              'weights' : ['uniform','distance'] ,\n",
    "              'algorithm' : ['ball_tree', 'kd_tree', 'brute']}\n",
    "\n",
    "gs = GridSearchCV(KNeighborsRegressor(), param_grid, cv=5)\n",
    "gs.fit(X_train_reduced, y_train)\n",
    "print('Best params: {}'.format(gs.best_params_))\n",
    "print('Best training accuracy: {:3f}'.format(gs.best_score_))\n",
    "sc_knn_pca = gs.best_score_"
   ]
  },
  {
   "cell_type": "code",
   "execution_count": 97,
   "metadata": {},
   "outputs": [],
   "source": [
    "list_scores = [sc_linear_pca_pca, sc_ridge_pca, sc_lasso_pca, sc_svr_rbf_pca,sc_svr_linear_pca,sc_svr_poly_pca,sc_linear_svr_pca, sc_sgd_pca, sc_dtree_pca, sc_rf_pca, sc_knn_pca]\n",
    "list_regressors = ['Linear','Ridge','Lasso', 'SVR', 'SGD','DTr','RF','KNN']"
   ]
  },
  {
   "cell_type": "markdown",
   "metadata": {},
   "source": [
    "### The graph below shows the accuracy score of the models mentioned above (with PCA features) "
   ]
  },
  {
   "cell_type": "code",
   "execution_count": 98,
   "metadata": {},
   "outputs": [
    {
     "data": {
      "image/png": "[encoded data removed]",
      "text/plain": [
       "<Figure size 720x504 with 1 Axes>"
      ]
     },
     "metadata": {
      "needs_background": "light"
     },
     "output_type": "display_data"
    }
   ],
   "source": [
    "fig, ax = plt.subplots()\n",
    "fig.set_size_inches(10,7)\n",
    "sns.barplot(x=list_regressors, y=list_scores, ax=ax)\n",
    "plt.ylabel('RMSE')\n",
    "plt.show()"
   ]
  },
  {
   "cell_type": "code",
   "execution_count": 339,
   "metadata": {},
   "outputs": [
    {
     "data": {
      "text/plain": [
       "[0.8579313480937726,\n",
       " 0.8580079141107247,\n",
       " 0.8417583849488628,\n",
       " 0.8366261901114023,\n",
       " 0.8579346245389348,\n",
       " 0.7690346618584909,\n",
       " 0.838768618428769,\n",
       " 0.8058459614879869]"
      ]
     },
     "execution_count": 339,
     "metadata": {},
     "output_type": "execute_result"
    }
   ],
   "source": [
    "list_scores"
   ]
  },
  {
   "cell_type": "code",
   "execution_count": null,
   "metadata": {},
   "outputs": [],
   "source": [
    "import pandas as pd \n",
    "  \n",
    "# intialise data of lists. \n",
    "data = {'Model':['KNN', 'Linear Regression', 'SGD regression','Ridge', 'SVM (RBF)','SVM (Linear)','SVM (Poly)'], 'Train Score':[0.7936, 0.8069,0.8069, 0.8059, 0.5384,0.7480,0.0884],'Test Score':[0.7737,\n",
    "0.8175,0.8177,0.8187 ,0.6000,0.7898,0.1314],'Best hyper parameter':['8 nearest neighbour','NA','learning_rate = optimal, penalty = l2','alpha = 1','C=10000,epsilon=0.1','C=10000,epsilon=0.1','C=10000,epsilon=0.1']} \n",
    "  \n",
    "# Create DataFrame \n",
    "df = pd.DataFrame(data) \n",
    "  \n",
    "# Print the output. \n",
    "print(df) "
   ]
  },
  {
   "cell_type": "code",
   "execution_count": null,
   "metadata": {},
   "outputs": [],
   "source": [
    "from tabulate import tabulate\n",
    "\n",
    "print(tabulate(df, headers='keys', tablefmt='psql'))"
   ]
  },
  {
   "cell_type": "markdown",
   "metadata": {},
   "source": [
    "## Neural Network for regression\n",
    "\n",
    "#### As can be seen below, a neural network was designed with two hidden layers, 15 inputs (since we have 15 features in the dataset) and 1 output with linear activation unction because the problem is regression."
   ]
  },
  {
   "cell_type": "code",
   "execution_count": 328,
   "metadata": {},
   "outputs": [],
   "source": [
    "from tensorflow.keras.models import Sequential\n",
    "from tensorflow.keras.layers import Dense,Activation\n",
    "from keras.models import Sequential\n",
    "from keras.layers import Dense\n",
    "from keras.wrappers.scikit_learn import KerasRegressor\n",
    "from sklearn.model_selection import cross_val_score\n",
    "from sklearn.model_selection import KFold\n",
    "from keras.optimizers import SGD\n",
    "from keras.utils import np_utils"
   ]
  },
  {
   "cell_type": "code",
   "execution_count": 329,
   "metadata": {},
   "outputs": [
    {
     "data": {
      "text/plain": [
       "(1093, 15)"
      ]
     },
     "execution_count": 329,
     "metadata": {},
     "output_type": "execute_result"
    }
   ],
   "source": [
    "X_train.shape"
   ]
  },
  {
   "cell_type": "code",
   "execution_count": 332,
   "metadata": {},
   "outputs": [],
   "source": [
    "model = Sequential()\n",
    "model.add(Dense(15, input_dim=15, kernel_initializer='normal', activation='relu'))\n",
    "model.add(Dense(15, input_dim=15, kernel_initializer='normal', activation='relu'))\n",
    "model.add(Dense(1, activation='linear'))"
   ]
  },
  {
   "cell_type": "code",
   "execution_count": 333,
   "metadata": {},
   "outputs": [],
   "source": [
    "model.compile(loss='mean_absolute_error', optimizer='adam', metrics=['mean_absolute_error'])"
   ]
  },
  {
   "cell_type": "code",
   "execution_count": 334,
   "metadata": {},
   "outputs": [
    {
     "name": "stdout",
     "output_type": "stream",
     "text": [
      "Train on 874 samples, validate on 219 samples\n",
      "Epoch 1/200\n",
      "874/874 [==============================] - 2s 2ms/step - loss: 0.4540 - mean_absolute_error: 0.4540 - val_loss: 0.3691 - val_mean_absolute_error: 0.3691\n",
      "Epoch 2/200\n",
      "874/874 [==============================] - 0s 49us/step - loss: 0.2453 - mean_absolute_error: 0.2453 - val_loss: 0.0676 - val_mean_absolute_error: 0.0676\n",
      "Epoch 3/200\n",
      "874/874 [==============================] - 0s 50us/step - loss: 0.0586 - mean_absolute_error: 0.0586 - val_loss: 0.0473 - val_mean_absolute_error: 0.0473\n",
      "Epoch 4/200\n",
      "874/874 [==============================] - 0s 51us/step - loss: 0.0469 - mean_absolute_error: 0.0469 - val_loss: 0.0420 - val_mean_absolute_error: 0.0420\n",
      "Epoch 5/200\n",
      "874/874 [==============================] - 0s 48us/step - loss: 0.0423 - mean_absolute_error: 0.0423 - val_loss: 0.0408 - val_mean_absolute_error: 0.0408\n",
      "Epoch 6/200\n",
      "874/874 [==============================] - 0s 49us/step - loss: 0.0412 - mean_absolute_error: 0.0412 - val_loss: 0.0383 - val_mean_absolute_error: 0.0383\n",
      "Epoch 7/200\n",
      "874/874 [==============================] - 0s 47us/step - loss: 0.0398 - mean_absolute_error: 0.0398 - val_loss: 0.0382 - val_mean_absolute_error: 0.0382\n",
      "Epoch 8/200\n",
      "874/874 [==============================] - 0s 47us/step - loss: 0.0393 - mean_absolute_error: 0.0393 - val_loss: 0.0362 - val_mean_absolute_error: 0.0362\n",
      "Epoch 9/200\n",
      "874/874 [==============================] - 0s 46us/step - loss: 0.0387 - mean_absolute_error: 0.0387 - val_loss: 0.0352 - val_mean_absolute_error: 0.0352\n",
      "Epoch 10/200\n",
      "874/874 [==============================] - 0s 56us/step - loss: 0.0383 - mean_absolute_error: 0.0383 - val_loss: 0.0347 - val_mean_absolute_error: 0.0347\n",
      "Epoch 11/200\n",
      "874/874 [==============================] - 0s 43us/step - loss: 0.0376 - mean_absolute_error: 0.0376 - val_loss: 0.0343 - val_mean_absolute_error: 0.0343\n",
      "Epoch 12/200\n",
      "874/874 [==============================] - 0s 55us/step - loss: 0.0373 - mean_absolute_error: 0.0373 - val_loss: 0.0345 - val_mean_absolute_error: 0.0345\n",
      "Epoch 13/200\n",
      "874/874 [==============================] - 0s 45us/step - loss: 0.0369 - mean_absolute_error: 0.0369 - val_loss: 0.0337 - val_mean_absolute_error: 0.0337\n",
      "Epoch 14/200\n",
      "874/874 [==============================] - 0s 55us/step - loss: 0.0365 - mean_absolute_error: 0.0365 - val_loss: 0.0328 - val_mean_absolute_error: 0.0328\n",
      "Epoch 15/200\n",
      "874/874 [==============================] - 0s 45us/step - loss: 0.0361 - mean_absolute_error: 0.0361 - val_loss: 0.0332 - val_mean_absolute_error: 0.0332\n",
      "Epoch 16/200\n",
      "874/874 [==============================] - 0s 55us/step - loss: 0.0360 - mean_absolute_error: 0.0360 - val_loss: 0.0320 - val_mean_absolute_error: 0.0320\n",
      "Epoch 17/200\n",
      "874/874 [==============================] - 0s 49us/step - loss: 0.0355 - mean_absolute_error: 0.0355 - val_loss: 0.0317 - val_mean_absolute_error: 0.0317\n",
      "Epoch 18/200\n",
      "874/874 [==============================] - 0s 59us/step - loss: 0.0359 - mean_absolute_error: 0.0359 - val_loss: 0.0338 - val_mean_absolute_error: 0.0338\n",
      "Epoch 19/200\n",
      "874/874 [==============================] - 0s 54us/step - loss: 0.0357 - mean_absolute_error: 0.0357 - val_loss: 0.0316 - val_mean_absolute_error: 0.0316\n",
      "Epoch 20/200\n",
      "874/874 [==============================] - 0s 59us/step - loss: 0.0353 - mean_absolute_error: 0.0353 - val_loss: 0.0310 - val_mean_absolute_error: 0.0310\n",
      "Epoch 21/200\n",
      "874/874 [==============================] - 0s 50us/step - loss: 0.0351 - mean_absolute_error: 0.0351 - val_loss: 0.0322 - val_mean_absolute_error: 0.0322\n",
      "Epoch 22/200\n",
      "874/874 [==============================] - 0s 59us/step - loss: 0.0343 - mean_absolute_error: 0.0343 - val_loss: 0.0307 - val_mean_absolute_error: 0.0307\n",
      "Epoch 23/200\n",
      "874/874 [==============================] - 0s 48us/step - loss: 0.0341 - mean_absolute_error: 0.0341 - val_loss: 0.0317 - val_mean_absolute_error: 0.0317\n",
      "Epoch 24/200\n",
      "874/874 [==============================] - 0s 58us/step - loss: 0.0340 - mean_absolute_error: 0.0340 - val_loss: 0.0320 - val_mean_absolute_error: 0.0320\n",
      "Epoch 25/200\n",
      "874/874 [==============================] - 0s 50us/step - loss: 0.0339 - mean_absolute_error: 0.0339 - val_loss: 0.0316 - val_mean_absolute_error: 0.0316\n",
      "Epoch 26/200\n",
      "874/874 [==============================] - 0s 50us/step - loss: 0.0336 - mean_absolute_error: 0.0336 - val_loss: 0.0313 - val_mean_absolute_error: 0.0313\n",
      "Epoch 27/200\n",
      "874/874 [==============================] - 0s 48us/step - loss: 0.0338 - mean_absolute_error: 0.0338 - val_loss: 0.0300 - val_mean_absolute_error: 0.0300\n",
      "Epoch 28/200\n",
      "874/874 [==============================] - 0s 42us/step - loss: 0.0338 - mean_absolute_error: 0.0338 - val_loss: 0.0315 - val_mean_absolute_error: 0.0315\n",
      "Epoch 29/200\n",
      "874/874 [==============================] - 0s 51us/step - loss: 0.0332 - mean_absolute_error: 0.0332 - val_loss: 0.0310 - val_mean_absolute_error: 0.0310\n",
      "Epoch 30/200\n",
      "874/874 [==============================] - 0s 51us/step - loss: 0.0331 - mean_absolute_error: 0.0331 - val_loss: 0.0325 - val_mean_absolute_error: 0.0325\n",
      "Epoch 31/200\n",
      "874/874 [==============================] - 0s 51us/step - loss: 0.0332 - mean_absolute_error: 0.0332 - val_loss: 0.0319 - val_mean_absolute_error: 0.0319\n",
      "Epoch 32/200\n",
      "874/874 [==============================] - 0s 43us/step - loss: 0.0332 - mean_absolute_error: 0.0332 - val_loss: 0.0297 - val_mean_absolute_error: 0.0297\n",
      "Epoch 33/200\n",
      "874/874 [==============================] - 0s 43us/step - loss: 0.0333 - mean_absolute_error: 0.0333 - val_loss: 0.0306 - val_mean_absolute_error: 0.0306\n",
      "Epoch 34/200\n",
      "874/874 [==============================] - 0s 57us/step - loss: 0.0332 - mean_absolute_error: 0.0332 - val_loss: 0.0309 - val_mean_absolute_error: 0.0309\n",
      "Epoch 35/200\n",
      "874/874 [==============================] - 0s 43us/step - loss: 0.0330 - mean_absolute_error: 0.0330 - val_loss: 0.0299 - val_mean_absolute_error: 0.0299\n",
      "Epoch 36/200\n",
      "874/874 [==============================] - 0s 51us/step - loss: 0.0326 - mean_absolute_error: 0.0326 - val_loss: 0.0301 - val_mean_absolute_error: 0.0301\n",
      "Epoch 37/200\n",
      "874/874 [==============================] - 0s 42us/step - loss: 0.0327 - mean_absolute_error: 0.0327 - val_loss: 0.0304 - val_mean_absolute_error: 0.0304\n",
      "Epoch 38/200\n",
      "874/874 [==============================] - 0s 43us/step - loss: 0.0328 - mean_absolute_error: 0.0328 - val_loss: 0.0340 - val_mean_absolute_error: 0.0340\n",
      "Epoch 39/200\n",
      "874/874 [==============================] - 0s 64us/step - loss: 0.0333 - mean_absolute_error: 0.0333 - val_loss: 0.0293 - val_mean_absolute_error: 0.0293\n",
      "Epoch 40/200\n",
      "874/874 [==============================] - 0s 55us/step - loss: 0.0324 - mean_absolute_error: 0.0324 - val_loss: 0.0299 - val_mean_absolute_error: 0.0299\n",
      "Epoch 41/200\n",
      "874/874 [==============================] - 0s 58us/step - loss: 0.0323 - mean_absolute_error: 0.0323 - val_loss: 0.0292 - val_mean_absolute_error: 0.0292\n",
      "Epoch 42/200\n",
      "874/874 [==============================] - 0s 88us/step - loss: 0.0324 - mean_absolute_error: 0.0324 - val_loss: 0.0293 - val_mean_absolute_error: 0.0293\n",
      "Epoch 43/200\n",
      "874/874 [==============================] - 0s 81us/step - loss: 0.0330 - mean_absolute_error: 0.0330 - val_loss: 0.0292 - val_mean_absolute_error: 0.0292\n",
      "Epoch 44/200\n",
      "874/874 [==============================] - 0s 73us/step - loss: 0.0327 - mean_absolute_error: 0.0327 - val_loss: 0.0294 - val_mean_absolute_error: 0.0294\n",
      "Epoch 45/200\n",
      "874/874 [==============================] - 0s 65us/step - loss: 0.0325 - mean_absolute_error: 0.0325 - val_loss: 0.0311 - val_mean_absolute_error: 0.0311\n",
      "Epoch 46/200\n",
      "874/874 [==============================] - 0s 63us/step - loss: 0.0322 - mean_absolute_error: 0.0322 - val_loss: 0.0293 - val_mean_absolute_error: 0.0293\n",
      "Epoch 47/200\n",
      "874/874 [==============================] - 0s 65us/step - loss: 0.0323 - mean_absolute_error: 0.0323 - val_loss: 0.0291 - val_mean_absolute_error: 0.0291\n",
      "Epoch 48/200\n",
      "874/874 [==============================] - 0s 68us/step - loss: 0.0323 - mean_absolute_error: 0.0323 - val_loss: 0.0303 - val_mean_absolute_error: 0.0303\n",
      "Epoch 49/200\n",
      "874/874 [==============================] - 0s 62us/step - loss: 0.0320 - mean_absolute_error: 0.0320 - val_loss: 0.0302 - val_mean_absolute_error: 0.0302\n"
     ]
    },
    {
     "name": "stdout",
     "output_type": "stream",
     "text": [
      "Epoch 50/200\n",
      "874/874 [==============================] - 0s 58us/step - loss: 0.0321 - mean_absolute_error: 0.0321 - val_loss: 0.0293 - val_mean_absolute_error: 0.0293\n",
      "Epoch 51/200\n",
      "874/874 [==============================] - 0s 76us/step - loss: 0.0319 - mean_absolute_error: 0.0319 - val_loss: 0.0306 - val_mean_absolute_error: 0.0306\n",
      "Epoch 52/200\n",
      "874/874 [==============================] - 0s 68us/step - loss: 0.0324 - mean_absolute_error: 0.0324 - val_loss: 0.0290 - val_mean_absolute_error: 0.0290\n",
      "Epoch 53/200\n",
      "874/874 [==============================] - 0s 64us/step - loss: 0.0328 - mean_absolute_error: 0.0328 - val_loss: 0.0318 - val_mean_absolute_error: 0.0318\n",
      "Epoch 54/200\n",
      "874/874 [==============================] - 0s 59us/step - loss: 0.0320 - mean_absolute_error: 0.0320 - val_loss: 0.0298 - val_mean_absolute_error: 0.0298\n",
      "Epoch 55/200\n",
      "874/874 [==============================] - 0s 74us/step - loss: 0.0321 - mean_absolute_error: 0.0321 - val_loss: 0.0304 - val_mean_absolute_error: 0.0304\n",
      "Epoch 56/200\n",
      "874/874 [==============================] - 0s 63us/step - loss: 0.0335 - mean_absolute_error: 0.0335 - val_loss: 0.0290 - val_mean_absolute_error: 0.0290\n",
      "Epoch 57/200\n",
      "874/874 [==============================] - 0s 66us/step - loss: 0.0323 - mean_absolute_error: 0.0323 - val_loss: 0.0318 - val_mean_absolute_error: 0.0318\n",
      "Epoch 58/200\n",
      "874/874 [==============================] - 0s 60us/step - loss: 0.0332 - mean_absolute_error: 0.0332 - val_loss: 0.0296 - val_mean_absolute_error: 0.0296\n",
      "Epoch 59/200\n",
      "874/874 [==============================] - 0s 59us/step - loss: 0.0322 - mean_absolute_error: 0.0322 - val_loss: 0.0331 - val_mean_absolute_error: 0.0331\n",
      "Epoch 60/200\n",
      "874/874 [==============================] - 0s 64us/step - loss: 0.0318 - mean_absolute_error: 0.0318 - val_loss: 0.0295 - val_mean_absolute_error: 0.0295\n",
      "Epoch 61/200\n",
      "874/874 [==============================] - 0s 63us/step - loss: 0.0325 - mean_absolute_error: 0.0325 - val_loss: 0.0311 - val_mean_absolute_error: 0.0311\n",
      "Epoch 62/200\n",
      "874/874 [==============================] - 0s 62us/step - loss: 0.0321 - mean_absolute_error: 0.0321 - val_loss: 0.0307 - val_mean_absolute_error: 0.0307\n",
      "Epoch 63/200\n",
      "874/874 [==============================] - 0s 59us/step - loss: 0.0334 - mean_absolute_error: 0.0334 - val_loss: 0.0400 - val_mean_absolute_error: 0.0400\n",
      "Epoch 64/200\n",
      "874/874 [==============================] - 0s 63us/step - loss: 0.0362 - mean_absolute_error: 0.0362 - val_loss: 0.0314 - val_mean_absolute_error: 0.0314\n",
      "Epoch 65/200\n",
      "874/874 [==============================] - 0s 63us/step - loss: 0.0346 - mean_absolute_error: 0.0346 - val_loss: 0.0322 - val_mean_absolute_error: 0.0322\n",
      "Epoch 66/200\n",
      "874/874 [==============================] - 0s 66us/step - loss: 0.0326 - mean_absolute_error: 0.0326 - val_loss: 0.0305 - val_mean_absolute_error: 0.0305\n",
      "Epoch 67/200\n",
      "874/874 [==============================] - 0s 60us/step - loss: 0.0327 - mean_absolute_error: 0.0327 - val_loss: 0.0298 - val_mean_absolute_error: 0.0298\n",
      "Epoch 68/200\n",
      "874/874 [==============================] - 0s 58us/step - loss: 0.0318 - mean_absolute_error: 0.0318 - val_loss: 0.0291 - val_mean_absolute_error: 0.0291\n",
      "Epoch 69/200\n",
      "874/874 [==============================] - 0s 66us/step - loss: 0.0318 - mean_absolute_error: 0.0318 - val_loss: 0.0293 - val_mean_absolute_error: 0.0293\n",
      "Epoch 70/200\n",
      "874/874 [==============================] - 0s 60us/step - loss: 0.0317 - mean_absolute_error: 0.0317 - val_loss: 0.0303 - val_mean_absolute_error: 0.0303\n",
      "Epoch 71/200\n",
      "874/874 [==============================] - 0s 59us/step - loss: 0.0318 - mean_absolute_error: 0.0318 - val_loss: 0.0290 - val_mean_absolute_error: 0.0290\n",
      "Epoch 72/200\n",
      "874/874 [==============================] - 0s 59us/step - loss: 0.0322 - mean_absolute_error: 0.0322 - val_loss: 0.0294 - val_mean_absolute_error: 0.0294\n",
      "Epoch 73/200\n",
      "874/874 [==============================] - 0s 60us/step - loss: 0.0336 - mean_absolute_error: 0.0336 - val_loss: 0.0307 - val_mean_absolute_error: 0.0307\n",
      "Epoch 74/200\n",
      "874/874 [==============================] - 0s 59us/step - loss: 0.0320 - mean_absolute_error: 0.0320 - val_loss: 0.0290 - val_mean_absolute_error: 0.0290\n",
      "Epoch 75/200\n",
      "874/874 [==============================] - 0s 70us/step - loss: 0.0317 - mean_absolute_error: 0.0317 - val_loss: 0.0295 - val_mean_absolute_error: 0.0295\n",
      "Epoch 76/200\n",
      "874/874 [==============================] - 0s 67us/step - loss: 0.0323 - mean_absolute_error: 0.0323 - val_loss: 0.0294 - val_mean_absolute_error: 0.0294\n",
      "Epoch 77/200\n",
      "874/874 [==============================] - 0s 65us/step - loss: 0.0316 - mean_absolute_error: 0.0316 - val_loss: 0.0293 - val_mean_absolute_error: 0.0293\n",
      "Epoch 78/200\n",
      "874/874 [==============================] - 0s 68us/step - loss: 0.0318 - mean_absolute_error: 0.0318 - val_loss: 0.0294 - val_mean_absolute_error: 0.0294\n",
      "Epoch 79/200\n",
      "874/874 [==============================] - 0s 57us/step - loss: 0.0320 - mean_absolute_error: 0.0320 - val_loss: 0.0290 - val_mean_absolute_error: 0.0290\n",
      "Epoch 80/200\n",
      "874/874 [==============================] - 0s 65us/step - loss: 0.0317 - mean_absolute_error: 0.0317 - val_loss: 0.0308 - val_mean_absolute_error: 0.0308\n",
      "Epoch 81/200\n",
      "874/874 [==============================] - 0s 52us/step - loss: 0.0318 - mean_absolute_error: 0.0318 - val_loss: 0.0330 - val_mean_absolute_error: 0.0330\n",
      "Epoch 82/200\n",
      "874/874 [==============================] - 0s 52us/step - loss: 0.0321 - mean_absolute_error: 0.0321 - val_loss: 0.0289 - val_mean_absolute_error: 0.0289\n",
      "Epoch 83/200\n",
      "874/874 [==============================] - 0s 51us/step - loss: 0.0318 - mean_absolute_error: 0.0318 - val_loss: 0.0306 - val_mean_absolute_error: 0.0306\n",
      "Epoch 84/200\n",
      "874/874 [==============================] - 0s 49us/step - loss: 0.0317 - mean_absolute_error: 0.0317 - val_loss: 0.0297 - val_mean_absolute_error: 0.0297\n",
      "Epoch 85/200\n",
      "874/874 [==============================] - 0s 55us/step - loss: 0.0315 - mean_absolute_error: 0.0315 - val_loss: 0.0296 - val_mean_absolute_error: 0.0296\n",
      "Epoch 86/200\n",
      "874/874 [==============================] - 0s 54us/step - loss: 0.0316 - mean_absolute_error: 0.0316 - val_loss: 0.0304 - val_mean_absolute_error: 0.0304\n",
      "Epoch 87/200\n",
      "874/874 [==============================] - 0s 55us/step - loss: 0.0328 - mean_absolute_error: 0.0328 - val_loss: 0.0323 - val_mean_absolute_error: 0.0323\n",
      "Epoch 88/200\n",
      "874/874 [==============================] - 0s 55us/step - loss: 0.0319 - mean_absolute_error: 0.0319 - val_loss: 0.0296 - val_mean_absolute_error: 0.0296\n",
      "Epoch 89/200\n",
      "874/874 [==============================] - 0s 55us/step - loss: 0.0317 - mean_absolute_error: 0.0317 - val_loss: 0.0316 - val_mean_absolute_error: 0.0316\n",
      "Epoch 90/200\n",
      "874/874 [==============================] - 0s 54us/step - loss: 0.0318 - mean_absolute_error: 0.0318 - val_loss: 0.0316 - val_mean_absolute_error: 0.0316\n",
      "Epoch 91/200\n",
      "874/874 [==============================] - 0s 54us/step - loss: 0.0319 - mean_absolute_error: 0.0319 - val_loss: 0.0310 - val_mean_absolute_error: 0.0310\n",
      "Epoch 92/200\n",
      "874/874 [==============================] - 0s 54us/step - loss: 0.0312 - mean_absolute_error: 0.0312 - val_loss: 0.0303 - val_mean_absolute_error: 0.0303\n",
      "Epoch 93/200\n",
      "874/874 [==============================] - 0s 57us/step - loss: 0.0321 - mean_absolute_error: 0.0321 - val_loss: 0.0321 - val_mean_absolute_error: 0.0321\n",
      "Epoch 94/200\n",
      "874/874 [==============================] - 0s 49us/step - loss: 0.0322 - mean_absolute_error: 0.0322 - val_loss: 0.0293 - val_mean_absolute_error: 0.0293\n",
      "Epoch 95/200\n",
      "874/874 [==============================] - 0s 54us/step - loss: 0.0325 - mean_absolute_error: 0.0325 - val_loss: 0.0297 - val_mean_absolute_error: 0.0297\n",
      "Epoch 96/200\n",
      "874/874 [==============================] - 0s 51us/step - loss: 0.0314 - mean_absolute_error: 0.0314 - val_loss: 0.0305 - val_mean_absolute_error: 0.0305\n",
      "Epoch 97/200\n",
      "874/874 [==============================] - 0s 56us/step - loss: 0.0311 - mean_absolute_error: 0.0311 - val_loss: 0.0297 - val_mean_absolute_error: 0.0297\n",
      "Epoch 98/200\n",
      "874/874 [==============================] - 0s 49us/step - loss: 0.0311 - mean_absolute_error: 0.0311 - val_loss: 0.0299 - val_mean_absolute_error: 0.0299\n",
      "Epoch 99/200\n"
     ]
    },
    {
     "name": "stdout",
     "output_type": "stream",
     "text": [
      "874/874 [==============================] - 0s 55us/step - loss: 0.0313 - mean_absolute_error: 0.0313 - val_loss: 0.0324 - val_mean_absolute_error: 0.0324\n",
      "Epoch 100/200\n",
      "874/874 [==============================] - 0s 51us/step - loss: 0.0310 - mean_absolute_error: 0.0310 - val_loss: 0.0330 - val_mean_absolute_error: 0.0330\n",
      "Epoch 101/200\n",
      "874/874 [==============================] - 0s 55us/step - loss: 0.0316 - mean_absolute_error: 0.0316 - val_loss: 0.0293 - val_mean_absolute_error: 0.0293\n",
      "Epoch 102/200\n",
      "874/874 [==============================] - 0s 55us/step - loss: 0.0308 - mean_absolute_error: 0.0308 - val_loss: 0.0296 - val_mean_absolute_error: 0.0296\n",
      "Epoch 103/200\n",
      "874/874 [==============================] - 0s 59us/step - loss: 0.0311 - mean_absolute_error: 0.0311 - val_loss: 0.0292 - val_mean_absolute_error: 0.0292\n",
      "Epoch 104/200\n",
      "874/874 [==============================] - 0s 56us/step - loss: 0.0311 - mean_absolute_error: 0.0311 - val_loss: 0.0320 - val_mean_absolute_error: 0.0320\n",
      "Epoch 105/200\n",
      "874/874 [==============================] - 0s 59us/step - loss: 0.0314 - mean_absolute_error: 0.0314 - val_loss: 0.0300 - val_mean_absolute_error: 0.0300\n",
      "Epoch 106/200\n",
      "874/874 [==============================] - 0s 51us/step - loss: 0.0310 - mean_absolute_error: 0.0310 - val_loss: 0.0294 - val_mean_absolute_error: 0.0294\n",
      "Epoch 107/200\n",
      "874/874 [==============================] - 0s 57us/step - loss: 0.0312 - mean_absolute_error: 0.0312 - val_loss: 0.0306 - val_mean_absolute_error: 0.0306\n",
      "Epoch 108/200\n",
      "874/874 [==============================] - 0s 54us/step - loss: 0.0308 - mean_absolute_error: 0.0308 - val_loss: 0.0291 - val_mean_absolute_error: 0.0291\n",
      "Epoch 109/200\n",
      "874/874 [==============================] - 0s 55us/step - loss: 0.0308 - mean_absolute_error: 0.0308 - val_loss: 0.0299 - val_mean_absolute_error: 0.0299\n",
      "Epoch 110/200\n",
      "874/874 [==============================] - 0s 59us/step - loss: 0.0307 - mean_absolute_error: 0.0307 - val_loss: 0.0300 - val_mean_absolute_error: 0.0300\n",
      "Epoch 111/200\n",
      "874/874 [==============================] - 0s 60us/step - loss: 0.0307 - mean_absolute_error: 0.0307 - val_loss: 0.0292 - val_mean_absolute_error: 0.0292\n",
      "Epoch 112/200\n",
      "874/874 [==============================] - 0s 57us/step - loss: 0.0318 - mean_absolute_error: 0.0318 - val_loss: 0.0292 - val_mean_absolute_error: 0.0292\n",
      "Epoch 113/200\n",
      "874/874 [==============================] - 0s 55us/step - loss: 0.0312 - mean_absolute_error: 0.0312 - val_loss: 0.0311 - val_mean_absolute_error: 0.0311\n",
      "Epoch 114/200\n",
      "874/874 [==============================] - 0s 52us/step - loss: 0.0309 - mean_absolute_error: 0.0309 - val_loss: 0.0304 - val_mean_absolute_error: 0.0304\n",
      "Epoch 115/200\n",
      "874/874 [==============================] - 0s 50us/step - loss: 0.0314 - mean_absolute_error: 0.0314 - val_loss: 0.0310 - val_mean_absolute_error: 0.0310\n",
      "Epoch 116/200\n",
      "874/874 [==============================] - 0s 52us/step - loss: 0.0308 - mean_absolute_error: 0.0308 - val_loss: 0.0292 - val_mean_absolute_error: 0.0292\n",
      "Epoch 117/200\n",
      "874/874 [==============================] - 0s 50us/step - loss: 0.0308 - mean_absolute_error: 0.0308 - val_loss: 0.0299 - val_mean_absolute_error: 0.0299\n",
      "Epoch 118/200\n",
      "874/874 [==============================] - 0s 50us/step - loss: 0.0307 - mean_absolute_error: 0.0307 - val_loss: 0.0297 - val_mean_absolute_error: 0.0297\n",
      "Epoch 119/200\n",
      "874/874 [==============================] - 0s 50us/step - loss: 0.0305 - mean_absolute_error: 0.0305 - val_loss: 0.0316 - val_mean_absolute_error: 0.0316\n",
      "Epoch 120/200\n",
      "874/874 [==============================] - 0s 55us/step - loss: 0.0308 - mean_absolute_error: 0.0308 - val_loss: 0.0292 - val_mean_absolute_error: 0.0292\n",
      "Epoch 121/200\n",
      "874/874 [==============================] - 0s 51us/step - loss: 0.0314 - mean_absolute_error: 0.0314 - val_loss: 0.0302 - val_mean_absolute_error: 0.0302\n",
      "Epoch 122/200\n",
      "874/874 [==============================] - 0s 57us/step - loss: 0.0306 - mean_absolute_error: 0.0306 - val_loss: 0.0312 - val_mean_absolute_error: 0.0312\n",
      "Epoch 123/200\n",
      "874/874 [==============================] - 0s 52us/step - loss: 0.0311 - mean_absolute_error: 0.0311 - val_loss: 0.0324 - val_mean_absolute_error: 0.0324\n",
      "Epoch 124/200\n",
      "874/874 [==============================] - 0s 64us/step - loss: 0.0311 - mean_absolute_error: 0.0311 - val_loss: 0.0293 - val_mean_absolute_error: 0.0293\n",
      "Epoch 125/200\n",
      "874/874 [==============================] - 0s 66us/step - loss: 0.0312 - mean_absolute_error: 0.0312 - val_loss: 0.0303 - val_mean_absolute_error: 0.0303\n",
      "Epoch 126/200\n",
      "874/874 [==============================] - 0s 62us/step - loss: 0.0307 - mean_absolute_error: 0.0307 - val_loss: 0.0297 - val_mean_absolute_error: 0.0297\n",
      "Epoch 127/200\n",
      "874/874 [==============================] - 0s 63us/step - loss: 0.0305 - mean_absolute_error: 0.0305 - val_loss: 0.0296 - val_mean_absolute_error: 0.0296\n",
      "Epoch 128/200\n",
      "874/874 [==============================] - 0s 58us/step - loss: 0.0306 - mean_absolute_error: 0.0306 - val_loss: 0.0294 - val_mean_absolute_error: 0.0294\n",
      "Epoch 129/200\n",
      "874/874 [==============================] - 0s 60us/step - loss: 0.0309 - mean_absolute_error: 0.0309 - val_loss: 0.0301 - val_mean_absolute_error: 0.0301\n",
      "Epoch 130/200\n",
      "874/874 [==============================] - 0s 62us/step - loss: 0.0315 - mean_absolute_error: 0.0315 - val_loss: 0.0295 - val_mean_absolute_error: 0.0295\n",
      "Epoch 131/200\n",
      "874/874 [==============================] - 0s 105us/step - loss: 0.0306 - mean_absolute_error: 0.0306 - val_loss: 0.0301 - val_mean_absolute_error: 0.0301\n",
      "Epoch 132/200\n",
      "874/874 [==============================] - 0s 62us/step - loss: 0.0310 - mean_absolute_error: 0.0310 - val_loss: 0.0292 - val_mean_absolute_error: 0.0292\n",
      "Epoch 133/200\n",
      "874/874 [==============================] - 0s 50us/step - loss: 0.0312 - mean_absolute_error: 0.0312 - val_loss: 0.0305 - val_mean_absolute_error: 0.0305\n",
      "Epoch 134/200\n",
      "874/874 [==============================] - 0s 66us/step - loss: 0.0310 - mean_absolute_error: 0.0310 - val_loss: 0.0297 - val_mean_absolute_error: 0.0297\n",
      "Epoch 135/200\n",
      "874/874 [==============================] - 0s 59us/step - loss: 0.0311 - mean_absolute_error: 0.0311 - val_loss: 0.0300 - val_mean_absolute_error: 0.0300\n",
      "Epoch 136/200\n",
      "874/874 [==============================] - 0s 67us/step - loss: 0.0306 - mean_absolute_error: 0.0306 - val_loss: 0.0292 - val_mean_absolute_error: 0.0292\n",
      "Epoch 137/200\n",
      "874/874 [==============================] - 0s 51us/step - loss: 0.0315 - mean_absolute_error: 0.0315 - val_loss: 0.0345 - val_mean_absolute_error: 0.0345\n",
      "Epoch 138/200\n",
      "874/874 [==============================] - 0s 51us/step - loss: 0.0312 - mean_absolute_error: 0.0312 - val_loss: 0.0292 - val_mean_absolute_error: 0.0292\n",
      "Epoch 139/200\n",
      "874/874 [==============================] - 0s 59us/step - loss: 0.0309 - mean_absolute_error: 0.0309 - val_loss: 0.0298 - val_mean_absolute_error: 0.0298\n",
      "Epoch 140/200\n",
      "874/874 [==============================] - 0s 67us/step - loss: 0.0315 - mean_absolute_error: 0.0315 - val_loss: 0.0296 - val_mean_absolute_error: 0.0296\n",
      "Epoch 141/200\n",
      "874/874 [==============================] - 0s 54us/step - loss: 0.0308 - mean_absolute_error: 0.0308 - val_loss: 0.0294 - val_mean_absolute_error: 0.0294\n",
      "Epoch 142/200\n",
      "874/874 [==============================] - 0s 50us/step - loss: 0.0319 - mean_absolute_error: 0.0319 - val_loss: 0.0358 - val_mean_absolute_error: 0.0358\n",
      "Epoch 143/200\n",
      "874/874 [==============================] - 0s 49us/step - loss: 0.0310 - mean_absolute_error: 0.0310 - val_loss: 0.0292 - val_mean_absolute_error: 0.0292\n",
      "Epoch 144/200\n",
      "874/874 [==============================] - 0s 56us/step - loss: 0.0306 - mean_absolute_error: 0.0306 - val_loss: 0.0295 - val_mean_absolute_error: 0.0295\n",
      "Epoch 145/200\n",
      "874/874 [==============================] - 0s 51us/step - loss: 0.0308 - mean_absolute_error: 0.0308 - val_loss: 0.0292 - val_mean_absolute_error: 0.0292\n",
      "Epoch 146/200\n",
      "874/874 [==============================] - 0s 59us/step - loss: 0.0309 - mean_absolute_error: 0.0309 - val_loss: 0.0314 - val_mean_absolute_error: 0.0314\n",
      "Epoch 147/200\n",
      "874/874 [==============================] - 0s 56us/step - loss: 0.0313 - mean_absolute_error: 0.0313 - val_loss: 0.0292 - val_mean_absolute_error: 0.0292\n"
     ]
    },
    {
     "name": "stdout",
     "output_type": "stream",
     "text": [
      "Epoch 148/200\n",
      "874/874 [==============================] - 0s 59us/step - loss: 0.0310 - mean_absolute_error: 0.0310 - val_loss: 0.0337 - val_mean_absolute_error: 0.0337\n",
      "Epoch 149/200\n",
      "874/874 [==============================] - 0s 62us/step - loss: 0.0310 - mean_absolute_error: 0.0310 - val_loss: 0.0296 - val_mean_absolute_error: 0.0296\n",
      "Epoch 150/200\n",
      "874/874 [==============================] - 0s 55us/step - loss: 0.0306 - mean_absolute_error: 0.0306 - val_loss: 0.0296 - val_mean_absolute_error: 0.0296\n",
      "Epoch 151/200\n",
      "874/874 [==============================] - 0s 52us/step - loss: 0.0304 - mean_absolute_error: 0.0304 - val_loss: 0.0293 - val_mean_absolute_error: 0.0293\n",
      "Epoch 152/200\n",
      "874/874 [==============================] - 0s 58us/step - loss: 0.0305 - mean_absolute_error: 0.0305 - val_loss: 0.0296 - val_mean_absolute_error: 0.0296\n",
      "Epoch 153/200\n",
      "874/874 [==============================] - 0s 64us/step - loss: 0.0306 - mean_absolute_error: 0.0306 - val_loss: 0.0295 - val_mean_absolute_error: 0.0295\n",
      "Epoch 154/200\n",
      "874/874 [==============================] - 0s 65us/step - loss: 0.0307 - mean_absolute_error: 0.0307 - val_loss: 0.0323 - val_mean_absolute_error: 0.0323\n",
      "Epoch 155/200\n",
      "874/874 [==============================] - 0s 63us/step - loss: 0.0310 - mean_absolute_error: 0.0310 - val_loss: 0.0295 - val_mean_absolute_error: 0.0295\n",
      "Epoch 156/200\n",
      "874/874 [==============================] - 0s 62us/step - loss: 0.0308 - mean_absolute_error: 0.0308 - val_loss: 0.0298 - val_mean_absolute_error: 0.0298\n",
      "Epoch 157/200\n",
      "874/874 [==============================] - 0s 62us/step - loss: 0.0313 - mean_absolute_error: 0.0313 - val_loss: 0.0320 - val_mean_absolute_error: 0.0320\n",
      "Epoch 158/200\n",
      "874/874 [==============================] - 0s 67us/step - loss: 0.0316 - mean_absolute_error: 0.0316 - val_loss: 0.0291 - val_mean_absolute_error: 0.0291\n",
      "Epoch 159/200\n",
      "874/874 [==============================] - 0s 62us/step - loss: 0.0319 - mean_absolute_error: 0.0319 - val_loss: 0.0309 - val_mean_absolute_error: 0.0309\n",
      "Epoch 160/200\n",
      "874/874 [==============================] - 0s 62us/step - loss: 0.0315 - mean_absolute_error: 0.0315 - val_loss: 0.0294 - val_mean_absolute_error: 0.0294\n",
      "Epoch 161/200\n",
      "874/874 [==============================] - 0s 64us/step - loss: 0.0305 - mean_absolute_error: 0.0305 - val_loss: 0.0293 - val_mean_absolute_error: 0.0293\n",
      "Epoch 162/200\n",
      "874/874 [==============================] - 0s 55us/step - loss: 0.0308 - mean_absolute_error: 0.0308 - val_loss: 0.0348 - val_mean_absolute_error: 0.0348\n",
      "Epoch 163/200\n",
      "874/874 [==============================] - 0s 56us/step - loss: 0.0311 - mean_absolute_error: 0.0311 - val_loss: 0.0293 - val_mean_absolute_error: 0.0293\n",
      "Epoch 164/200\n",
      "874/874 [==============================] - 0s 56us/step - loss: 0.0317 - mean_absolute_error: 0.0317 - val_loss: 0.0313 - val_mean_absolute_error: 0.0313\n",
      "Epoch 165/200\n",
      "874/874 [==============================] - 0s 64us/step - loss: 0.0305 - mean_absolute_error: 0.0305 - val_loss: 0.0293 - val_mean_absolute_error: 0.0293\n",
      "Epoch 166/200\n",
      "874/874 [==============================] - 0s 56us/step - loss: 0.0314 - mean_absolute_error: 0.0314 - val_loss: 0.0345 - val_mean_absolute_error: 0.0345\n",
      "Epoch 167/200\n",
      "874/874 [==============================] - 0s 57us/step - loss: 0.0316 - mean_absolute_error: 0.0316 - val_loss: 0.0293 - val_mean_absolute_error: 0.0293\n",
      "Epoch 168/200\n",
      "874/874 [==============================] - 0s 63us/step - loss: 0.0312 - mean_absolute_error: 0.0312 - val_loss: 0.0294 - val_mean_absolute_error: 0.0294\n",
      "Epoch 169/200\n",
      "874/874 [==============================] - 0s 52us/step - loss: 0.0316 - mean_absolute_error: 0.0316 - val_loss: 0.0352 - val_mean_absolute_error: 0.0352\n",
      "Epoch 170/200\n",
      "874/874 [==============================] - 0s 58us/step - loss: 0.0315 - mean_absolute_error: 0.0315 - val_loss: 0.0298 - val_mean_absolute_error: 0.0298\n",
      "Epoch 171/200\n",
      "874/874 [==============================] - 0s 65us/step - loss: 0.0312 - mean_absolute_error: 0.0312 - val_loss: 0.0291 - val_mean_absolute_error: 0.0291\n",
      "Epoch 172/200\n",
      "874/874 [==============================] - 0s 60us/step - loss: 0.0311 - mean_absolute_error: 0.0311 - val_loss: 0.0331 - val_mean_absolute_error: 0.0331\n",
      "Epoch 173/200\n",
      "874/874 [==============================] - 0s 58us/step - loss: 0.0311 - mean_absolute_error: 0.0311 - val_loss: 0.0294 - val_mean_absolute_error: 0.0294\n",
      "Epoch 174/200\n",
      "874/874 [==============================] - 0s 62us/step - loss: 0.0305 - mean_absolute_error: 0.0305 - val_loss: 0.0299 - val_mean_absolute_error: 0.0299\n",
      "Epoch 175/200\n",
      "874/874 [==============================] - 0s 67us/step - loss: 0.0307 - mean_absolute_error: 0.0307 - val_loss: 0.0291 - val_mean_absolute_error: 0.0291\n",
      "Epoch 176/200\n",
      "874/874 [==============================] - 0s 82us/step - loss: 0.0309 - mean_absolute_error: 0.0309 - val_loss: 0.0296 - val_mean_absolute_error: 0.0296\n",
      "Epoch 177/200\n",
      "874/874 [==============================] - 0s 71us/step - loss: 0.0307 - mean_absolute_error: 0.0307 - val_loss: 0.0293 - val_mean_absolute_error: 0.0293\n",
      "Epoch 178/200\n",
      "874/874 [==============================] - 0s 60us/step - loss: 0.0310 - mean_absolute_error: 0.0310 - val_loss: 0.0292 - val_mean_absolute_error: 0.0292\n",
      "Epoch 179/200\n",
      "874/874 [==============================] - 0s 62us/step - loss: 0.0312 - mean_absolute_error: 0.0312 - val_loss: 0.0324 - val_mean_absolute_error: 0.0324\n",
      "Epoch 180/200\n",
      "874/874 [==============================] - 0s 82us/step - loss: 0.0307 - mean_absolute_error: 0.0307 - val_loss: 0.0295 - val_mean_absolute_error: 0.0295\n",
      "Epoch 181/200\n",
      "874/874 [==============================] - 0s 63us/step - loss: 0.0305 - mean_absolute_error: 0.0305 - val_loss: 0.0315 - val_mean_absolute_error: 0.0315\n",
      "Epoch 182/200\n",
      "874/874 [==============================] - 0s 64us/step - loss: 0.0308 - mean_absolute_error: 0.0308 - val_loss: 0.0305 - val_mean_absolute_error: 0.0305\n",
      "Epoch 183/200\n",
      "874/874 [==============================] - 0s 66us/step - loss: 0.0308 - mean_absolute_error: 0.0308 - val_loss: 0.0298 - val_mean_absolute_error: 0.0298\n",
      "Epoch 184/200\n",
      "874/874 [==============================] - 0s 60us/step - loss: 0.0308 - mean_absolute_error: 0.0308 - val_loss: 0.0305 - val_mean_absolute_error: 0.0305\n",
      "Epoch 185/200\n",
      "874/874 [==============================] - 0s 59us/step - loss: 0.0308 - mean_absolute_error: 0.0308 - val_loss: 0.0301 - val_mean_absolute_error: 0.0301\n",
      "Epoch 186/200\n",
      "874/874 [==============================] - 0s 60us/step - loss: 0.0306 - mean_absolute_error: 0.0306 - val_loss: 0.0305 - val_mean_absolute_error: 0.0305\n",
      "Epoch 187/200\n",
      "874/874 [==============================] - 0s 56us/step - loss: 0.0317 - mean_absolute_error: 0.0317 - val_loss: 0.0291 - val_mean_absolute_error: 0.0291\n",
      "Epoch 188/200\n",
      "874/874 [==============================] - 0s 57us/step - loss: 0.0315 - mean_absolute_error: 0.0315 - val_loss: 0.0308 - val_mean_absolute_error: 0.0308\n",
      "Epoch 189/200\n",
      "874/874 [==============================] - 0s 55us/step - loss: 0.0305 - mean_absolute_error: 0.0305 - val_loss: 0.0313 - val_mean_absolute_error: 0.0313\n",
      "Epoch 190/200\n",
      "874/874 [==============================] - 0s 58us/step - loss: 0.0305 - mean_absolute_error: 0.0305 - val_loss: 0.0322 - val_mean_absolute_error: 0.0322\n",
      "Epoch 191/200\n",
      "874/874 [==============================] - 0s 55us/step - loss: 0.0308 - mean_absolute_error: 0.0308 - val_loss: 0.0310 - val_mean_absolute_error: 0.0310\n",
      "Epoch 192/200\n",
      "874/874 [==============================] - 0s 58us/step - loss: 0.0310 - mean_absolute_error: 0.0310 - val_loss: 0.0293 - val_mean_absolute_error: 0.0293\n",
      "Epoch 193/200\n",
      "874/874 [==============================] - 0s 63us/step - loss: 0.0310 - mean_absolute_error: 0.0310 - val_loss: 0.0295 - val_mean_absolute_error: 0.0295\n",
      "Epoch 194/200\n",
      "874/874 [==============================] - 0s 87us/step - loss: 0.0307 - mean_absolute_error: 0.0307 - val_loss: 0.0297 - val_mean_absolute_error: 0.0297\n",
      "Epoch 195/200\n",
      "874/874 [==============================] - 0s 56us/step - loss: 0.0307 - mean_absolute_error: 0.0307 - val_loss: 0.0297 - val_mean_absolute_error: 0.0297\n",
      "Epoch 196/200\n",
      "874/874 [==============================] - 0s 55us/step - loss: 0.0305 - mean_absolute_error: 0.0305 - val_loss: 0.0295 - val_mean_absolute_error: 0.0295\n"
     ]
    },
    {
     "name": "stdout",
     "output_type": "stream",
     "text": [
      "Epoch 197/200\n",
      "874/874 [==============================] - 0s 57us/step - loss: 0.0318 - mean_absolute_error: 0.0318 - val_loss: 0.0319 - val_mean_absolute_error: 0.0319\n",
      "Epoch 198/200\n",
      "874/874 [==============================] - 0s 58us/step - loss: 0.0306 - mean_absolute_error: 0.0306 - val_loss: 0.0293 - val_mean_absolute_error: 0.0293\n",
      "Epoch 199/200\n",
      "874/874 [==============================] - 0s 58us/step - loss: 0.0316 - mean_absolute_error: 0.0316 - val_loss: 0.0295 - val_mean_absolute_error: 0.0295\n",
      "Epoch 200/200\n",
      "874/874 [==============================] - 0s 58us/step - loss: 0.0303 - mean_absolute_error: 0.0303 - val_loss: 0.0304 - val_mean_absolute_error: 0.0304\n"
     ]
    },
    {
     "data": {
      "text/plain": [
       "<keras.callbacks.History at 0x233e8e58ef0>"
      ]
     },
     "execution_count": 334,
     "metadata": {},
     "output_type": "execute_result"
    }
   ],
   "source": [
    "model.fit(X_train, y_train, epochs=200, batch_size=50, validation_split = 0.2)\n"
   ]
  },
  {
   "cell_type": "markdown",
   "metadata": {},
   "source": [
    "#### KERAS doesnt give R squared score so we wrote a progrm as shown below to claculate the R squared:"
   ]
  },
  {
   "cell_type": "code",
   "execution_count": 336,
   "metadata": {},
   "outputs": [
    {
     "data": {
      "text/plain": [
       "SalePrice_Log    0.881813\n",
       "dtype: float64"
      ]
     },
     "execution_count": 336,
     "metadata": {},
     "output_type": "execute_result"
    }
   ],
   "source": [
    "predictions = model.predict(X_test)\n",
    "y_test_df=y_test.to_frame()\n",
    "SS_res=((y_test_df-predictions)**2).sum()\n",
    "SS_tot=(((y_test_df-(y_test_df).mean()))**2).sum()\n",
    "1 - SS_res/(SS_tot + K.epsilon())"
   ]
  },
  {
   "cell_type": "markdown",
   "metadata": {},
   "source": [
    "##### As can be seen above, the acuracy score of this NN for the housing problem test set is 0.881813 "
   ]
  },
  {
   "cell_type": "code",
   "execution_count": null,
   "metadata": {},
   "outputs": [],
   "source": []
  }
 ],
 "metadata": {
  "celltoolbar": "Raw Cell Format",
  "kernelspec": {
   "display_name": "Python 3",
   "language": "python",
   "name": "python3"
  },
  "language_info": {
   "codemirror_mode": {
    "name": "ipython",
    "version": 3
   },
   "file_extension": ".py",
   "mimetype": "text/x-python",
   "name": "python",
   "nbconvert_exporter": "python",
   "pygments_lexer": "ipython3",
   "version": "3.7.3"
  }
 },
 "nbformat": 4,
 "nbformat_minor": 4
}
